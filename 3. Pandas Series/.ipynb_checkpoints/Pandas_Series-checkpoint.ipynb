{
 "cells": [
  {
   "cell_type": "code",
   "execution_count": 1,
   "id": "f2a0e60b",
   "metadata": {},
   "outputs": [],
   "source": [
    "import pandas as pd\n",
    "import numpy as np"
   ]
  },
  {
   "cell_type": "markdown",
   "id": "648f3f5a",
   "metadata": {},
   "source": [
    "## pandas Series: .unique() & .nunique()"
   ]
  },
  {
   "cell_type": "code",
   "execution_count": 15,
   "id": "f3f279ff",
   "metadata": {},
   "outputs": [
    {
     "data": {
      "text/plain": [
       "0        Location 3\n",
       "1        Location 6\n",
       "2        Location 8\n",
       "3       Location 26\n",
       "4       Location 34\n",
       "           ...     \n",
       "1038    Location 73\n",
       "1039    Location 82\n",
       "1040    Location 11\n",
       "1041    Location 26\n",
       "1042    Location 94\n",
       "Name: Location, Length: 1043, dtype: object"
      ]
     },
     "execution_count": 15,
     "metadata": {},
     "output_type": "execute_result"
    }
   ],
   "source": [
    "data = pd.read_csv('Location.csv')\n",
    "location_data = data.copy()\n",
    "dataframe_to_series = location_data.squeeze()\n",
    "dataframe_to_series"
   ]
  },
  {
   "cell_type": "code",
   "execution_count": 16,
   "id": "1645d211",
   "metadata": {},
   "outputs": [
    {
     "data": {
      "text/plain": [
       "pandas.core.series.Series"
      ]
     },
     "execution_count": 16,
     "metadata": {},
     "output_type": "execute_result"
    }
   ],
   "source": [
    "type(dataframe_to_series)"
   ]
  },
  {
   "cell_type": "code",
   "execution_count": 17,
   "id": "2803e8cb",
   "metadata": {},
   "outputs": [
    {
     "data": {
      "text/plain": [
       "count            1043\n",
       "unique            296\n",
       "top       Location 25\n",
       "freq               31\n",
       "Name: Location, dtype: object"
      ]
     },
     "execution_count": 17,
     "metadata": {},
     "output_type": "execute_result"
    }
   ],
   "source": [
    "dataframe_to_series.describe()"
   ]
  },
  {
   "cell_type": "code",
   "execution_count": 18,
   "id": "36a26997",
   "metadata": {},
   "outputs": [
    {
     "data": {
      "text/plain": [
       "1043"
      ]
     },
     "execution_count": 18,
     "metadata": {},
     "output_type": "execute_result"
    }
   ],
   "source": [
    "len(dataframe_to_series)"
   ]
  },
  {
   "cell_type": "code",
   "execution_count": 19,
   "id": "9cae4888",
   "metadata": {},
   "outputs": [
    {
     "data": {
      "text/plain": [
       "array(['Location 3', 'Location 6', 'Location 8', 'Location 26',\n",
       "       'Location 34', 'Location 25', 'Location 46', 'Location 156',\n",
       "       'Location 21', 'Location 13', 'Location 579', 'Location 602',\n",
       "       'Location 10', 'Location 44', 'Location 30', 'Location 48',\n",
       "       'Location 196', 'Location 64', 'Location 91', 'Location 62',\n",
       "       'Location 75', 'Location 42', 'Location 233', 'Location 95',\n",
       "       'Location 78', 'Location 61', 'Location 87', 'Location 19',\n",
       "       'Location 115', 'Location 350', 'Location 377', 'Location 17',\n",
       "       'Location 113', 'Location 81', 'Location 58', 'Location 212',\n",
       "       'Location 53', 'Location 337', 'Location 41', 'Location 632',\n",
       "       'Location 73', 'Location 214', 'Location 218', 'Location 38',\n",
       "       'Location 172', 'Location 197', 'Location 101', 'Location 185',\n",
       "       'Location 129', 'Location 235', 'Location 142', 'Location 50',\n",
       "       'Location 76', 'Location 11', 'Location 33', 'Location 22',\n",
       "       'Location 145', 'Location 203', 'Location 94', 'Location 573',\n",
       "       'Location 27', 'Location 186', 'Location 4', 'Location 70',\n",
       "       'Location 45', 'Location 262', 'Location 111', 'Location 84',\n",
       "       'Location 108', 'Location 7', 'Location 74', 'Location 450',\n",
       "       'Location 47', 'Location 37', 'Location 43', 'Location 286',\n",
       "       'Location 89', 'Location 24', 'Location 97', 'Location 144',\n",
       "       'Location 40', 'Location 128', 'Location 169', 'Location 399',\n",
       "       'Location 23', 'Location 191', 'Location 178', 'Location 510',\n",
       "       'Location 600', 'Location 188', 'Location 67', 'Location 49',\n",
       "       'Location 29', 'Location 222', 'Location 386', 'Location 88',\n",
       "       'Location 104', 'Location 405', 'Location 114', 'Location 259',\n",
       "       'Location 182', 'Location 12', 'Location 228', 'Location 149',\n",
       "       'Location 90', 'Location 109', 'Location 441', 'Location 421',\n",
       "       'Location 641', 'Location 195', 'Location 20', 'Location 161',\n",
       "       'Location 117', 'Location 200', 'Location 106', 'Location 31',\n",
       "       'Location 122', 'Location 541', 'Location 495', 'Location 193',\n",
       "       'Location 39', 'Location 9', 'Location 86', 'Location 107',\n",
       "       'Location 198', 'Location 318', 'Location 135', 'Location 177',\n",
       "       'Location 32', 'Location 591', 'Location 488', 'Location 418',\n",
       "       'Location 587', 'Location 454', 'Location 543', 'Location 489',\n",
       "       'Location 60', 'Location 52', 'Location 548', 'Location 15',\n",
       "       'Location 240', 'Location 658', 'Location 209', 'Location 151',\n",
       "       'Location 192', 'Location 364', 'Location 18', 'Location 503',\n",
       "       'Location 482', 'Location 460', 'Location 71', 'Location 69',\n",
       "       'Location 258', 'Location 204', 'Location 124', 'Location 168',\n",
       "       'Location 35', 'Location 296', 'Location 136', 'Location 28',\n",
       "       'Location 153', 'Location 99', 'Location 132', 'Location 427',\n",
       "       'Location 118', 'Location 127', 'Location 159', 'Location 154',\n",
       "       'Location 175', 'Location 120', 'Location 82', 'Location 152',\n",
       "       'Location 56', 'Location 282', 'Location 566', 'Location 365',\n",
       "       'Location 353', 'Location 66', 'Location 2', 'Location 323',\n",
       "       'Location 473', 'Location 206', 'Location 57', 'Location 68',\n",
       "       'Location 166', 'Location 1', 'Location 227', 'Location 79',\n",
       "       'Location 642', 'Location 105', 'Location 644', 'Location 547',\n",
       "       'Location 637', 'Location 59', 'Location 574', 'Location 529',\n",
       "       'Location 554', 'Location 275', 'Location 589', 'Location 160',\n",
       "       'Location 410', 'Location 146', 'Location 221', 'Location 265',\n",
       "       'Location 569', 'Location 157', 'Location 648', 'Location 165',\n",
       "       'Location 651', 'Location 266', 'Location 77', 'Location 158',\n",
       "       'Location 336', 'Location 72', 'Location 463', 'Location 253',\n",
       "       'Location 5', 'Location 431', 'Location 515', 'Location 226',\n",
       "       'Location 140', 'Location 110', 'Location 202', 'Location 634',\n",
       "       'Location 138', 'Location 217', 'Location 443', 'Location 627',\n",
       "       'Location 123', 'Location 528', 'Location 357', 'Location 187',\n",
       "       'Location 315', 'Location 112', 'Location 302', 'Location 194',\n",
       "       'Location 332', 'Location 208', 'Location 179', 'Location 199',\n",
       "       'Location 201', 'Location 174', 'Location 474', 'Location 184',\n",
       "       'Location 63', 'Location 512', 'Location 403', 'Location 436',\n",
       "       'Location 210', 'Location 468', 'Location 464', 'Location 98',\n",
       "       'Location 102', 'Location 325', 'Location 267', 'Location 173',\n",
       "       'Location 617', 'Location 141', 'Location 300', 'Location 216',\n",
       "       'Location 506', 'Location 647', 'Location 402', 'Location 239',\n",
       "       'Location 54', 'Location 137', 'Location 477', 'Location 586',\n",
       "       'Location 472', 'Location 374', 'Location 458', 'Location 180',\n",
       "       'Location 653', 'Location 16', 'Location 612', 'Location 505',\n",
       "       'Location 631', 'Location 299', 'Location 65', 'Location 342',\n",
       "       'Location 155', 'Location 511', 'Location 461', 'Location 244',\n",
       "       'Location 207', 'Location 597', 'Location 352', 'Location 533',\n",
       "       'Location 384', 'Location 80', 'Location 171', 'Location 143',\n",
       "       'Location 576', 'Location 139', 'Location 125', 'Location 181'],\n",
       "      dtype=object)"
      ]
     },
     "execution_count": 19,
     "metadata": {},
     "output_type": "execute_result"
    }
   ],
   "source": [
    "dataframe_to_series.unique() # It gives unique values"
   ]
  },
  {
   "cell_type": "code",
   "execution_count": 21,
   "id": "20a42f4d",
   "metadata": {},
   "outputs": [
    {
     "data": {
      "text/plain": [
       "296"
      ]
     },
     "execution_count": 21,
     "metadata": {},
     "output_type": "execute_result"
    }
   ],
   "source": [
    "dataframe_to_series.nunique() # It return number of unique values"
   ]
  },
  {
   "cell_type": "code",
   "execution_count": 22,
   "id": "4e1ae39e",
   "metadata": {},
   "outputs": [
    {
     "data": {
      "text/plain": [
       "numpy.ndarray"
      ]
     },
     "execution_count": 22,
     "metadata": {},
     "output_type": "execute_result"
    }
   ],
   "source": [
    "type(dataframe_to_series.unique())"
   ]
  },
  {
   "cell_type": "code",
   "execution_count": 23,
   "id": "736a7b00",
   "metadata": {},
   "outputs": [
    {
     "data": {
      "text/plain": [
       "int"
      ]
     },
     "execution_count": 23,
     "metadata": {},
     "output_type": "execute_result"
    }
   ],
   "source": [
    "type(dataframe_to_series.nunique())"
   ]
  },
  {
   "cell_type": "markdown",
   "id": "9e77e6ed",
   "metadata": {},
   "source": [
    "## pandas Series: Converting Series into Arrays (.values, .array, .to_numpy())"
   ]
  },
  {
   "cell_type": "code",
   "execution_count": 24,
   "id": "5d04487a",
   "metadata": {},
   "outputs": [
    {
     "data": {
      "text/plain": [
       "Product A    22250\n",
       "Product B    16600\n",
       "Product C    15600\n",
       "dtype: int64"
      ]
     },
     "execution_count": 24,
     "metadata": {},
     "output_type": "execute_result"
    }
   ],
   "source": [
    "prices_per_category = pd.Series({'Product A': 22250, 'Product B' : 16600, 'Product C':15600})\n",
    "prices_per_category"
   ]
  },
  {
   "cell_type": "code",
   "execution_count": 26,
   "id": "6b2d3f70",
   "metadata": {},
   "outputs": [
    {
     "data": {
      "text/plain": [
       "array([22250, 16600, 15600], dtype=int64)"
      ]
     },
     "execution_count": 26,
     "metadata": {},
     "output_type": "execute_result"
    }
   ],
   "source": [
    "prices_per_category.values"
   ]
  },
  {
   "cell_type": "code",
   "execution_count": 27,
   "id": "1d57fc3b",
   "metadata": {},
   "outputs": [
    {
     "data": {
      "text/plain": [
       "numpy.ndarray"
      ]
     },
     "execution_count": 27,
     "metadata": {},
     "output_type": "execute_result"
    }
   ],
   "source": [
    "type(prices_per_category.values)"
   ]
  },
  {
   "cell_type": "code",
   "execution_count": 28,
   "id": "5801c38c",
   "metadata": {},
   "outputs": [
    {
     "data": {
      "text/plain": [
       "<PandasArray>\n",
       "[22250, 16600, 15600]\n",
       "Length: 3, dtype: int64"
      ]
     },
     "execution_count": 28,
     "metadata": {},
     "output_type": "execute_result"
    }
   ],
   "source": [
    "prices_per_category.array"
   ]
  },
  {
   "cell_type": "code",
   "execution_count": 29,
   "id": "5d5e4ebe",
   "metadata": {},
   "outputs": [
    {
     "data": {
      "text/plain": [
       "pandas.core.arrays.numpy_.PandasArray"
      ]
     },
     "execution_count": 29,
     "metadata": {},
     "output_type": "execute_result"
    }
   ],
   "source": [
    "type(prices_per_category.array)"
   ]
  },
  {
   "cell_type": "code",
   "execution_count": 33,
   "id": "bbe0077a",
   "metadata": {},
   "outputs": [
    {
     "data": {
      "text/plain": [
       "array([22250, 16600, 15600], dtype=int64)"
      ]
     },
     "execution_count": 33,
     "metadata": {},
     "output_type": "execute_result"
    }
   ],
   "source": [
    "prices_per_category.to_numpy()"
   ]
  },
  {
   "cell_type": "code",
   "execution_count": 32,
   "id": "258544ae",
   "metadata": {},
   "outputs": [
    {
     "data": {
      "text/plain": [
       "numpy.ndarray"
      ]
     },
     "execution_count": 32,
     "metadata": {},
     "output_type": "execute_result"
    }
   ],
   "source": [
    "type(prices_per_category.to_numpy())"
   ]
  },
  {
   "cell_type": "code",
   "execution_count": 34,
   "id": "3e31aa35",
   "metadata": {},
   "outputs": [
    {
     "data": {
      "text/plain": [
       "22250"
      ]
     },
     "execution_count": 34,
     "metadata": {},
     "output_type": "execute_result"
    }
   ],
   "source": [
    "prices_per_category.values[0]"
   ]
  },
  {
   "cell_type": "code",
   "execution_count": 35,
   "id": "e96ebce8",
   "metadata": {},
   "outputs": [
    {
     "data": {
      "text/plain": [
       "numpy.int64"
      ]
     },
     "execution_count": 35,
     "metadata": {},
     "output_type": "execute_result"
    }
   ],
   "source": [
    "type(prices_per_category.values[0])"
   ]
  },
  {
   "cell_type": "code",
   "execution_count": 36,
   "id": "255d9881",
   "metadata": {},
   "outputs": [
    {
     "data": {
      "text/plain": [
       "22250"
      ]
     },
     "execution_count": 36,
     "metadata": {},
     "output_type": "execute_result"
    }
   ],
   "source": [
    "prices_per_category.array[0]"
   ]
  },
  {
   "cell_type": "code",
   "execution_count": 37,
   "id": "63f5a116",
   "metadata": {},
   "outputs": [
    {
     "data": {
      "text/plain": [
       "numpy.int64"
      ]
     },
     "execution_count": 37,
     "metadata": {},
     "output_type": "execute_result"
    }
   ],
   "source": [
    "type(prices_per_category.array[0])"
   ]
  },
  {
   "cell_type": "code",
   "execution_count": 39,
   "id": "5fb65d02",
   "metadata": {},
   "outputs": [
    {
     "data": {
      "text/plain": [
       "22250"
      ]
     },
     "execution_count": 39,
     "metadata": {},
     "output_type": "execute_result"
    }
   ],
   "source": [
    "prices_per_category.to_numpy()[0]"
   ]
  },
  {
   "cell_type": "code",
   "execution_count": 40,
   "id": "94eb78fa",
   "metadata": {},
   "outputs": [
    {
     "data": {
      "text/plain": [
       "numpy.int64"
      ]
     },
     "execution_count": 40,
     "metadata": {},
     "output_type": "execute_result"
    }
   ],
   "source": [
    "type(prices_per_category.to_numpy()[0])"
   ]
  },
  {
   "cell_type": "markdown",
   "id": "8c06a586",
   "metadata": {},
   "source": [
    "## pandas Series: .sort_values()"
   ]
  },
  {
   "cell_type": "code",
   "execution_count": 41,
   "id": "79420130",
   "metadata": {},
   "outputs": [
    {
     "data": {
      "text/plain": [
       "0     12\n",
       "1     34\n",
       "2      1\n",
       "3    452\n",
       "4     12\n",
       "dtype: int64"
      ]
     },
     "execution_count": 41,
     "metadata": {},
     "output_type": "execute_result"
    }
   ],
   "source": [
    "number = pd.Series([12,34,1,452,12])\n",
    "number"
   ]
  },
  {
   "cell_type": "code",
   "execution_count": 42,
   "id": "1e758ac6",
   "metadata": {},
   "outputs": [
    {
     "data": {
      "text/plain": [
       "2      1\n",
       "0     12\n",
       "4     12\n",
       "1     34\n",
       "3    452\n",
       "dtype: int64"
      ]
     },
     "execution_count": 42,
     "metadata": {},
     "output_type": "execute_result"
    }
   ],
   "source": [
    "number.sort_values()"
   ]
  },
  {
   "cell_type": "code",
   "execution_count": 43,
   "id": "8fb150fe",
   "metadata": {},
   "outputs": [
    {
     "data": {
      "text/plain": [
       "2      1\n",
       "0     12\n",
       "4     12\n",
       "1     34\n",
       "3    452\n",
       "dtype: int64"
      ]
     },
     "execution_count": 43,
     "metadata": {},
     "output_type": "execute_result"
    }
   ],
   "source": [
    "number.sort_values(ascending=True)"
   ]
  },
  {
   "cell_type": "code",
   "execution_count": 44,
   "id": "62ecb40c",
   "metadata": {},
   "outputs": [
    {
     "data": {
      "text/plain": [
       "3    452\n",
       "1     34\n",
       "0     12\n",
       "4     12\n",
       "2      1\n",
       "dtype: int64"
      ]
     },
     "execution_count": 44,
     "metadata": {},
     "output_type": "execute_result"
    }
   ],
   "source": [
    "number.sort_values(ascending= False)"
   ]
  },
  {
   "cell_type": "code",
   "execution_count": 47,
   "id": "287a9eca",
   "metadata": {},
   "outputs": [
    {
     "data": {
      "text/plain": [
       "0        Location 3\n",
       "1        Location 6\n",
       "2        Location 8\n",
       "3       Location 26\n",
       "4       Location 34\n",
       "           ...     \n",
       "1038    Location 73\n",
       "1039    Location 82\n",
       "1040    Location 11\n",
       "1041    Location 26\n",
       "1042    Location 94\n",
       "Name: Location, Length: 1043, dtype: object"
      ]
     },
     "execution_count": 47,
     "metadata": {},
     "output_type": "execute_result"
    }
   ],
   "source": [
    "dataframe_to_series"
   ]
  },
  {
   "cell_type": "code",
   "execution_count": 46,
   "id": "ccea9b10",
   "metadata": {},
   "outputs": [
    {
     "data": {
      "text/plain": [
       "637     Location 1\n",
       "884     Location 1\n",
       "465     Location 1\n",
       "716    Location 10\n",
       "623    Location 10\n",
       "          ...     \n",
       "482    Location 97\n",
       "128    Location 97\n",
       "669    Location 97\n",
       "757    Location 98\n",
       "372    Location 99\n",
       "Name: Location, Length: 1043, dtype: object"
      ]
     },
     "execution_count": 46,
     "metadata": {},
     "output_type": "execute_result"
    }
   ],
   "source": [
    "dataframe_to_series.sort_values()"
   ]
  },
  {
   "cell_type": "code",
   "execution_count": 48,
   "id": "03e719f5",
   "metadata": {},
   "outputs": [
    {
     "data": {
      "text/plain": [
       "637     Location 1\n",
       "884     Location 1\n",
       "465     Location 1\n",
       "716    Location 10\n",
       "623    Location 10\n",
       "          ...     \n",
       "482    Location 97\n",
       "128    Location 97\n",
       "669    Location 97\n",
       "757    Location 98\n",
       "372    Location 99\n",
       "Name: Location, Length: 1043, dtype: object"
      ]
     },
     "execution_count": 48,
     "metadata": {},
     "output_type": "execute_result"
    }
   ],
   "source": [
    "dataframe_to_series.sort_values(ascending=True)"
   ]
  },
  {
   "cell_type": "code",
   "execution_count": 49,
   "id": "de03a6b7",
   "metadata": {},
   "outputs": [
    {
     "data": {
      "text/plain": [
       "372    Location 99\n",
       "757    Location 98\n",
       "128    Location 97\n",
       "482    Location 97\n",
       "271    Location 97\n",
       "          ...     \n",
       "202    Location 10\n",
       "298    Location 10\n",
       "637     Location 1\n",
       "884     Location 1\n",
       "465     Location 1\n",
       "Name: Location, Length: 1043, dtype: object"
      ]
     },
     "execution_count": 49,
     "metadata": {},
     "output_type": "execute_result"
    }
   ],
   "source": [
    "dataframe_to_series.sort_values(ascending=False)"
   ]
  },
  {
   "cell_type": "markdown",
   "id": "a103f406",
   "metadata": {},
   "source": [
    "## Attribute and Method Chaining"
   ]
  },
  {
   "cell_type": "code",
   "execution_count": 50,
   "id": "75a29be9",
   "metadata": {},
   "outputs": [
    {
     "data": {
      "text/plain": [
       "0     Location 3\n",
       "1     Location 6\n",
       "2     Location 8\n",
       "3    Location 26\n",
       "4    Location 34\n",
       "Name: Location, dtype: object"
      ]
     },
     "execution_count": 50,
     "metadata": {},
     "output_type": "execute_result"
    }
   ],
   "source": [
    "dataframe_to_series.head()"
   ]
  },
  {
   "cell_type": "code",
   "execution_count": 51,
   "id": "62d7173b",
   "metadata": {},
   "outputs": [
    {
     "data": {
      "text/plain": [
       "RangeIndex(start=0, stop=1043, step=1)"
      ]
     },
     "execution_count": 51,
     "metadata": {},
     "output_type": "execute_result"
    }
   ],
   "source": [
    "dataframe_to_series.index"
   ]
  },
  {
   "cell_type": "code",
   "execution_count": 52,
   "id": "48d0e4fd",
   "metadata": {},
   "outputs": [
    {
     "data": {
      "text/plain": [
       "'Location'"
      ]
     },
     "execution_count": 52,
     "metadata": {},
     "output_type": "execute_result"
    }
   ],
   "source": [
    "dataframe_to_series.name"
   ]
  },
  {
   "cell_type": "code",
   "execution_count": 53,
   "id": "cdab2b50",
   "metadata": {},
   "outputs": [],
   "source": [
    "dataframe_to_series.index.name"
   ]
  },
  {
   "cell_type": "code",
   "execution_count": 54,
   "id": "cbe48148",
   "metadata": {},
   "outputs": [],
   "source": [
    "dataframe_to_series.index.name = 'Index'"
   ]
  },
  {
   "cell_type": "code",
   "execution_count": 55,
   "id": "9f5decd3",
   "metadata": {},
   "outputs": [
    {
     "data": {
      "text/plain": [
       "Index\n",
       "0        Location 3\n",
       "1        Location 6\n",
       "2        Location 8\n",
       "3       Location 26\n",
       "4       Location 34\n",
       "           ...     \n",
       "1038    Location 73\n",
       "1039    Location 82\n",
       "1040    Location 11\n",
       "1041    Location 26\n",
       "1042    Location 94\n",
       "Name: Location, Length: 1043, dtype: object"
      ]
     },
     "execution_count": 55,
     "metadata": {},
     "output_type": "execute_result"
    }
   ],
   "source": [
    "dataframe_to_series"
   ]
  },
  {
   "cell_type": "code",
   "execution_count": 56,
   "id": "394e9b78",
   "metadata": {},
   "outputs": [
    {
     "data": {
      "text/plain": [
       "'Index'"
      ]
     },
     "execution_count": 56,
     "metadata": {},
     "output_type": "execute_result"
    }
   ],
   "source": [
    "dataframe_to_series.index.name"
   ]
  },
  {
   "cell_type": "code",
   "execution_count": 57,
   "id": "e5fa1229",
   "metadata": {},
   "outputs": [
    {
     "data": {
      "text/plain": [
       "Index\n",
       "637     Location 1\n",
       "884     Location 1\n",
       "465     Location 1\n",
       "716    Location 10\n",
       "623    Location 10\n",
       "          ...     \n",
       "482    Location 97\n",
       "128    Location 97\n",
       "669    Location 97\n",
       "757    Location 98\n",
       "372    Location 99\n",
       "Name: Location, Length: 1043, dtype: object"
      ]
     },
     "execution_count": 57,
     "metadata": {},
     "output_type": "execute_result"
    }
   ],
   "source": [
    "dataframe_to_series.sort_values()"
   ]
  },
  {
   "cell_type": "code",
   "execution_count": 58,
   "id": "20caf557",
   "metadata": {},
   "outputs": [
    {
     "data": {
      "text/plain": [
       "Index\n",
       "637     Location 1\n",
       "884     Location 1\n",
       "465     Location 1\n",
       "716    Location 10\n",
       "623    Location 10\n",
       "Name: Location, dtype: object"
      ]
     },
     "execution_count": 58,
     "metadata": {},
     "output_type": "execute_result"
    }
   ],
   "source": [
    "dataframe_to_series.sort_values().head(5)"
   ]
  },
  {
   "cell_type": "code",
   "execution_count": 59,
   "id": "421dcdd9",
   "metadata": {},
   "outputs": [
    {
     "data": {
      "text/plain": [
       "Index\n",
       "482    Location 97\n",
       "128    Location 97\n",
       "669    Location 97\n",
       "757    Location 98\n",
       "372    Location 99\n",
       "Name: Location, dtype: object"
      ]
     },
     "execution_count": 59,
     "metadata": {},
     "output_type": "execute_result"
    }
   ],
   "source": [
    "dataframe_to_series.sort_values().tail(5)"
   ]
  },
  {
   "cell_type": "code",
   "execution_count": 62,
   "id": "86124249",
   "metadata": {},
   "outputs": [
    {
     "data": {
      "text/plain": [
       "RangeIndex(start=0, stop=1043, step=1, name='Index')"
      ]
     },
     "execution_count": 62,
     "metadata": {},
     "output_type": "execute_result"
    }
   ],
   "source": [
    "dataframe_to_series.index"
   ]
  },
  {
   "cell_type": "code",
   "execution_count": 64,
   "id": "1edc469a",
   "metadata": {},
   "outputs": [
    {
     "data": {
      "text/plain": [
       "array([   0,    1,    2, ..., 1040, 1041, 1042], dtype=int64)"
      ]
     },
     "execution_count": 64,
     "metadata": {},
     "output_type": "execute_result"
    }
   ],
   "source": [
    "dataframe_to_series.index.values"
   ]
  },
  {
   "cell_type": "markdown",
   "id": "9aff34a4",
   "metadata": {},
   "source": [
    "## pandas Series: .sort_index() "
   ]
  },
  {
   "cell_type": "code",
   "execution_count": 65,
   "id": "c08bf7fe",
   "metadata": {},
   "outputs": [
    {
     "data": {
      "text/plain": [
       "Index\n",
       "0     Location 3\n",
       "1     Location 6\n",
       "2     Location 8\n",
       "3    Location 26\n",
       "4    Location 34\n",
       "Name: Location, dtype: object"
      ]
     },
     "execution_count": 65,
     "metadata": {},
     "output_type": "execute_result"
    }
   ],
   "source": [
    "dataframe_to_series.head()"
   ]
  },
  {
   "cell_type": "code",
   "execution_count": 68,
   "id": "9467cc3c",
   "metadata": {},
   "outputs": [
    {
     "data": {
      "text/plain": [
       "Index\n",
       "372    Location 99\n",
       "757    Location 98\n",
       "128    Location 97\n",
       "482    Location 97\n",
       "271    Location 97\n",
       "Name: Location, dtype: object"
      ]
     },
     "execution_count": 68,
     "metadata": {},
     "output_type": "execute_result"
    }
   ],
   "source": [
    "location_data_sv = dataframe_to_series.sort_values(ascending=False)\n",
    "location_data_sv.head()"
   ]
  },
  {
   "cell_type": "code",
   "execution_count": 69,
   "id": "3e35b5aa",
   "metadata": {},
   "outputs": [
    {
     "data": {
      "text/plain": [
       "Int64Index([ 372,  757,  128,  482,  271,  669,  612,   29,  518,  598,\n",
       "            ...\n",
       "             904,  912, 1010,   14,  716,  202,  298,  637,  884,  465],\n",
       "           dtype='int64', name='Index', length=1043)"
      ]
     },
     "execution_count": 69,
     "metadata": {},
     "output_type": "execute_result"
    }
   ],
   "source": [
    "location_data_sv.index"
   ]
  },
  {
   "cell_type": "code",
   "execution_count": 70,
   "id": "b5c66346",
   "metadata": {},
   "outputs": [
    {
     "data": {
      "text/plain": [
       "Int64Index([   0,    1,    2,    3,    4,    5,    6,    7,    8,    9,\n",
       "            ...\n",
       "            1033, 1034, 1035, 1036, 1037, 1038, 1039, 1040, 1041, 1042],\n",
       "           dtype='int64', name='Index', length=1043)"
      ]
     },
     "execution_count": 70,
     "metadata": {},
     "output_type": "execute_result"
    }
   ],
   "source": [
    "location_data_sv.index.sort_values()"
   ]
  },
  {
   "cell_type": "code",
   "execution_count": 71,
   "id": "4d1d552b",
   "metadata": {},
   "outputs": [
    {
     "data": {
      "text/plain": [
       "Index\n",
       "372    Location 99\n",
       "757    Location 98\n",
       "128    Location 97\n",
       "482    Location 97\n",
       "271    Location 97\n",
       "Name: Location, dtype: object"
      ]
     },
     "execution_count": 71,
     "metadata": {},
     "output_type": "execute_result"
    }
   ],
   "source": [
    "location_data_sv.head()"
   ]
  },
  {
   "cell_type": "code",
   "execution_count": 72,
   "id": "108ce3a0",
   "metadata": {},
   "outputs": [
    {
     "data": {
      "text/plain": [
       "Index\n",
       "0        Location 3\n",
       "1        Location 6\n",
       "2        Location 8\n",
       "3       Location 26\n",
       "4       Location 34\n",
       "           ...     \n",
       "1038    Location 73\n",
       "1039    Location 82\n",
       "1040    Location 11\n",
       "1041    Location 26\n",
       "1042    Location 94\n",
       "Name: Location, Length: 1043, dtype: object"
      ]
     },
     "execution_count": 72,
     "metadata": {},
     "output_type": "execute_result"
    }
   ],
   "source": [
    "location_data_sv.sort_index()"
   ]
  },
  {
   "cell_type": "code",
   "execution_count": 73,
   "id": "959e2550",
   "metadata": {},
   "outputs": [
    {
     "data": {
      "text/plain": [
       "Index\n",
       "372    Location 99\n",
       "757    Location 98\n",
       "128    Location 97\n",
       "482    Location 97\n",
       "271    Location 97\n",
       "          ...     \n",
       "202    Location 10\n",
       "298    Location 10\n",
       "637     Location 1\n",
       "884     Location 1\n",
       "465     Location 1\n",
       "Name: Location, Length: 1043, dtype: object"
      ]
     },
     "execution_count": 73,
     "metadata": {},
     "output_type": "execute_result"
    }
   ],
   "source": [
    "location_data_sv"
   ]
  },
  {
   "cell_type": "code",
   "execution_count": 74,
   "id": "6330dc14",
   "metadata": {},
   "outputs": [
    {
     "data": {
      "text/plain": [
       "Index\n",
       "0        Location 3\n",
       "1        Location 6\n",
       "2        Location 8\n",
       "3       Location 26\n",
       "4       Location 34\n",
       "           ...     \n",
       "1038    Location 73\n",
       "1039    Location 82\n",
       "1040    Location 11\n",
       "1041    Location 26\n",
       "1042    Location 94\n",
       "Name: Location, Length: 1043, dtype: object"
      ]
     },
     "execution_count": 74,
     "metadata": {},
     "output_type": "execute_result"
    }
   ],
   "source": [
    "location_data_sv = location_data_sv.sort_index(ascending=True)\n",
    "location_data_sv"
   ]
  },
  {
   "cell_type": "code",
   "execution_count": null,
   "id": "c2f1c4c8",
   "metadata": {},
   "outputs": [],
   "source": []
  }
 ],
 "metadata": {
  "kernelspec": {
   "display_name": "Python 3 (ipykernel)",
   "language": "python",
   "name": "python3"
  },
  "language_info": {
   "codemirror_mode": {
    "name": "ipython",
    "version": 3
   },
   "file_extension": ".py",
   "mimetype": "text/x-python",
   "name": "python",
   "nbconvert_exporter": "python",
   "pygments_lexer": "ipython3",
   "version": "3.10.4"
  }
 },
 "nbformat": 4,
 "nbformat_minor": 5
}
