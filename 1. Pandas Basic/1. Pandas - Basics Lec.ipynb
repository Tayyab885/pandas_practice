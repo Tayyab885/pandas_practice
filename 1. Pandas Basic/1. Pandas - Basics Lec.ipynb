{
 "cells": [
  {
   "cell_type": "code",
   "execution_count": 1,
   "id": "004677ae",
   "metadata": {},
   "outputs": [],
   "source": [
    "import numpy as np\n",
    "import pandas as pd"
   ]
  },
  {
   "cell_type": "code",
   "execution_count": 2,
   "id": "db3d8aa5",
   "metadata": {},
   "outputs": [
    {
     "data": {
      "text/plain": [
       "'1.4.2'"
      ]
     },
     "execution_count": 2,
     "metadata": {},
     "output_type": "execute_result"
    }
   ],
   "source": [
    "pd.__version__"
   ]
  },
  {
   "cell_type": "markdown",
   "id": "84f45f1f",
   "metadata": {},
   "source": [
    "### **3. Introduction to pandas Series**"
   ]
  },
  {
   "cell_type": "code",
   "execution_count": 3,
   "id": "07a02ca9",
   "metadata": {},
   "outputs": [
    {
     "data": {
      "text/plain": [
       "['A', 'B', 'C', 'D']"
      ]
     },
     "execution_count": 3,
     "metadata": {},
     "output_type": "execute_result"
    }
   ],
   "source": [
    "products = ['A','B','C','D']\n",
    "products"
   ]
  },
  {
   "cell_type": "code",
   "execution_count": 4,
   "id": "206767ec",
   "metadata": {},
   "outputs": [
    {
     "data": {
      "text/plain": [
       "list"
      ]
     },
     "execution_count": 4,
     "metadata": {},
     "output_type": "execute_result"
    }
   ],
   "source": [
    "type(products)"
   ]
  },
  {
   "cell_type": "code",
   "execution_count": 5,
   "id": "ddba6c9a",
   "metadata": {},
   "outputs": [],
   "source": [
    "products_categories = pd.Series(products)"
   ]
  },
  {
   "cell_type": "code",
   "execution_count": 6,
   "id": "60104620",
   "metadata": {},
   "outputs": [
    {
     "data": {
      "text/plain": [
       "0    A\n",
       "1    B\n",
       "2    C\n",
       "3    D\n",
       "dtype: object"
      ]
     },
     "execution_count": 6,
     "metadata": {},
     "output_type": "execute_result"
    }
   ],
   "source": [
    "products_categories"
   ]
  },
  {
   "cell_type": "code",
   "execution_count": 7,
   "id": "bc181a7f",
   "metadata": {},
   "outputs": [
    {
     "data": {
      "text/plain": [
       "pandas.core.series.Series"
      ]
     },
     "execution_count": 7,
     "metadata": {},
     "output_type": "execute_result"
    }
   ],
   "source": [
    "type(products_categories)"
   ]
  },
  {
   "cell_type": "code",
   "execution_count": 8,
   "id": "23fc0073",
   "metadata": {},
   "outputs": [],
   "source": [
    "daily_rates_dollars = pd.Series([40,45,50,55])"
   ]
  },
  {
   "cell_type": "code",
   "execution_count": 9,
   "id": "9f9df4a4",
   "metadata": {},
   "outputs": [
    {
     "data": {
      "text/plain": [
       "0    40\n",
       "1    45\n",
       "2    50\n",
       "3    55\n",
       "dtype: int64"
      ]
     },
     "execution_count": 9,
     "metadata": {},
     "output_type": "execute_result"
    }
   ],
   "source": [
    "daily_rates_dollars"
   ]
  },
  {
   "cell_type": "code",
   "execution_count": 10,
   "id": "e66af41a",
   "metadata": {},
   "outputs": [
    {
     "name": "stdout",
     "output_type": "stream",
     "text": [
      "0    40\n",
      "1    45\n",
      "2    50\n",
      "3    55\n",
      "dtype: int64\n"
     ]
    }
   ],
   "source": [
    "print(daily_rates_dollars)"
   ]
  },
  {
   "cell_type": "code",
   "execution_count": 11,
   "id": "00cb9019",
   "metadata": {},
   "outputs": [],
   "source": [
    "array_a = np.array([10,20,30,40,50])"
   ]
  },
  {
   "cell_type": "code",
   "execution_count": 12,
   "id": "79b34a9e",
   "metadata": {},
   "outputs": [
    {
     "data": {
      "text/plain": [
       "array([10, 20, 30, 40, 50])"
      ]
     },
     "execution_count": 12,
     "metadata": {},
     "output_type": "execute_result"
    }
   ],
   "source": [
    "array_a"
   ]
  },
  {
   "cell_type": "code",
   "execution_count": 13,
   "id": "a8b3f969",
   "metadata": {},
   "outputs": [
    {
     "data": {
      "text/plain": [
       "numpy.ndarray"
      ]
     },
     "execution_count": 13,
     "metadata": {},
     "output_type": "execute_result"
    }
   ],
   "source": [
    "type(array_a)"
   ]
  },
  {
   "cell_type": "code",
   "execution_count": 14,
   "id": "814b19e5",
   "metadata": {},
   "outputs": [],
   "source": [
    "series_a = pd.Series(array_a)"
   ]
  },
  {
   "cell_type": "code",
   "execution_count": 15,
   "id": "9bc306ad",
   "metadata": {},
   "outputs": [
    {
     "data": {
      "text/plain": [
       "0    10\n",
       "1    20\n",
       "2    30\n",
       "3    40\n",
       "4    50\n",
       "dtype: int32"
      ]
     },
     "execution_count": 15,
     "metadata": {},
     "output_type": "execute_result"
    }
   ],
   "source": [
    "series_a"
   ]
  },
  {
   "cell_type": "code",
   "execution_count": 16,
   "id": "c32f0f02",
   "metadata": {},
   "outputs": [
    {
     "name": "stdout",
     "output_type": "stream",
     "text": [
      "0    10\n",
      "1    20\n",
      "2    30\n",
      "3    40\n",
      "4    50\n",
      "dtype: int32\n"
     ]
    }
   ],
   "source": [
    "print(series_a)"
   ]
  },
  {
   "cell_type": "code",
   "execution_count": 22,
   "id": "952cfa23",
   "metadata": {},
   "outputs": [
    {
     "data": {
      "text/plain": [
       "pandas.core.series.Series"
      ]
     },
     "execution_count": 22,
     "metadata": {},
     "output_type": "execute_result"
    }
   ],
   "source": [
    "type(series_a)"
   ]
  },
  {
   "cell_type": "markdown",
   "id": "7b35609f",
   "metadata": {},
   "source": [
    "### **4. Working with Attributes in Python**"
   ]
  },
  {
   "cell_type": "code",
   "execution_count": 23,
   "id": "f2362880",
   "metadata": {},
   "outputs": [
    {
     "data": {
      "text/plain": [
       "0    10\n",
       "1    20\n",
       "2    30\n",
       "3    40\n",
       "4    50\n",
       "dtype: int32"
      ]
     },
     "execution_count": 23,
     "metadata": {},
     "output_type": "execute_result"
    }
   ],
   "source": [
    "series_a"
   ]
  },
  {
   "cell_type": "code",
   "execution_count": 24,
   "id": "63c8cc67",
   "metadata": {},
   "outputs": [
    {
     "data": {
      "text/plain": [
       "dtype('int32')"
      ]
     },
     "execution_count": 24,
     "metadata": {},
     "output_type": "execute_result"
    }
   ],
   "source": [
    "series_a.dtype"
   ]
  },
  {
   "cell_type": "code",
   "execution_count": 25,
   "id": "a2e8464a",
   "metadata": {},
   "outputs": [
    {
     "data": {
      "text/plain": [
       "5"
      ]
     },
     "execution_count": 25,
     "metadata": {},
     "output_type": "execute_result"
    }
   ],
   "source": [
    "series_a.size"
   ]
  },
  {
   "cell_type": "code",
   "execution_count": 26,
   "id": "3e2912ae",
   "metadata": {},
   "outputs": [
    {
     "data": {
      "text/plain": [
       "0    A\n",
       "1    B\n",
       "2    C\n",
       "3    D\n",
       "dtype: object"
      ]
     },
     "execution_count": 26,
     "metadata": {},
     "output_type": "execute_result"
    }
   ],
   "source": [
    "products_categories"
   ]
  },
  {
   "cell_type": "code",
   "execution_count": 27,
   "id": "10a400e0",
   "metadata": {},
   "outputs": [
    {
     "data": {
      "text/plain": [
       "dtype('O')"
      ]
     },
     "execution_count": 27,
     "metadata": {},
     "output_type": "execute_result"
    }
   ],
   "source": [
    "products_categories.dtype"
   ]
  },
  {
   "cell_type": "code",
   "execution_count": 28,
   "id": "4d143f27",
   "metadata": {},
   "outputs": [
    {
     "data": {
      "text/plain": [
       "pandas.core.series.Series"
      ]
     },
     "execution_count": 28,
     "metadata": {},
     "output_type": "execute_result"
    }
   ],
   "source": [
    "type(products_categories)"
   ]
  },
  {
   "cell_type": "code",
   "execution_count": 29,
   "id": "2d8bed48",
   "metadata": {},
   "outputs": [
    {
     "data": {
      "text/plain": [
       "4"
      ]
     },
     "execution_count": 29,
     "metadata": {},
     "output_type": "execute_result"
    }
   ],
   "source": [
    "products_categories.size"
   ]
  },
  {
   "cell_type": "code",
   "execution_count": 31,
   "id": "934dd440",
   "metadata": {},
   "outputs": [
    {
     "data": {
      "text/plain": [
       "int"
      ]
     },
     "execution_count": 31,
     "metadata": {},
     "output_type": "execute_result"
    }
   ],
   "source": [
    "type(products_categories.size) # It returns int because size is 4"
   ]
  },
  {
   "cell_type": "code",
   "execution_count": 33,
   "id": "8de32d8a",
   "metadata": {},
   "outputs": [],
   "source": [
    "products_categories.name"
   ]
  },
  {
   "cell_type": "code",
   "execution_count": 34,
   "id": "91e2b98d",
   "metadata": {},
   "outputs": [
    {
     "name": "stdout",
     "output_type": "stream",
     "text": [
      "None\n"
     ]
    }
   ],
   "source": [
    "print(products_categories.name)"
   ]
  },
  {
   "cell_type": "code",
   "execution_count": 35,
   "id": "cf49bf79",
   "metadata": {},
   "outputs": [],
   "source": [
    "products_categories.name = \"Product Categories\""
   ]
  },
  {
   "cell_type": "code",
   "execution_count": 36,
   "id": "51d39647",
   "metadata": {},
   "outputs": [
    {
     "data": {
      "text/plain": [
       "'Product Categories'"
      ]
     },
     "execution_count": 36,
     "metadata": {},
     "output_type": "execute_result"
    }
   ],
   "source": [
    "products_categories.name"
   ]
  },
  {
   "cell_type": "code",
   "execution_count": 37,
   "id": "17e6ebc3",
   "metadata": {},
   "outputs": [
    {
     "name": "stdout",
     "output_type": "stream",
     "text": [
      "Product Categories\n"
     ]
    }
   ],
   "source": [
    "print(products_categories.name)"
   ]
  },
  {
   "cell_type": "markdown",
   "id": "825e7f9f",
   "metadata": {},
   "source": [
    "### **5. Using an Index in pandas**"
   ]
  },
  {
   "cell_type": "code",
   "execution_count": 42,
   "id": "5aa139b6",
   "metadata": {},
   "outputs": [
    {
     "data": {
      "text/plain": [
       "{'Product A': 10978, 'Product B': 56789, 'Product C': 34563}"
      ]
     },
     "execution_count": 42,
     "metadata": {},
     "output_type": "execute_result"
    }
   ],
   "source": [
    "prices_per_category = {\"Product A\": 10978, \"Product B\": 56789, \"Product C\": 34563}\n",
    "prices_per_category"
   ]
  },
  {
   "cell_type": "code",
   "execution_count": 43,
   "id": "69f8178f",
   "metadata": {},
   "outputs": [
    {
     "data": {
      "text/plain": [
       "dict"
      ]
     },
     "execution_count": 43,
     "metadata": {},
     "output_type": "execute_result"
    }
   ],
   "source": [
    "type(prices_per_category)"
   ]
  },
  {
   "cell_type": "code",
   "execution_count": 44,
   "id": "94fdaa48",
   "metadata": {},
   "outputs": [],
   "source": [
    "prices_per_category = pd.Series(prices_per_category)"
   ]
  },
  {
   "cell_type": "code",
   "execution_count": 45,
   "id": "536eebcc",
   "metadata": {},
   "outputs": [
    {
     "data": {
      "text/plain": [
       "Product A    10978\n",
       "Product B    56789\n",
       "Product C    34563\n",
       "dtype: int64"
      ]
     },
     "execution_count": 45,
     "metadata": {},
     "output_type": "execute_result"
    }
   ],
   "source": [
    "prices_per_category"
   ]
  },
  {
   "cell_type": "code",
   "execution_count": 46,
   "id": "114d78ed",
   "metadata": {},
   "outputs": [
    {
     "data": {
      "text/plain": [
       "pandas.core.series.Series"
      ]
     },
     "execution_count": 46,
     "metadata": {},
     "output_type": "execute_result"
    }
   ],
   "source": [
    "type(prices_per_category)"
   ]
  },
  {
   "cell_type": "code",
   "execution_count": 47,
   "id": "6f255710",
   "metadata": {},
   "outputs": [
    {
     "data": {
      "text/plain": [
       "Index(['Product A', 'Product B', 'Product C'], dtype='object')"
      ]
     },
     "execution_count": 47,
     "metadata": {},
     "output_type": "execute_result"
    }
   ],
   "source": [
    "prices_per_category.index"
   ]
  },
  {
   "cell_type": "code",
   "execution_count": 48,
   "id": "6c388584",
   "metadata": {},
   "outputs": [
    {
     "data": {
      "text/plain": [
       "pandas.core.indexes.base.Index"
      ]
     },
     "execution_count": 48,
     "metadata": {},
     "output_type": "execute_result"
    }
   ],
   "source": [
    "type(prices_per_category.index)"
   ]
  },
  {
   "cell_type": "markdown",
   "id": "8010f1dd",
   "metadata": {},
   "source": [
    "### **6. Label-based vs Position-based Indexing**"
   ]
  },
  {
   "cell_type": "code",
   "execution_count": 49,
   "id": "f611d14f",
   "metadata": {},
   "outputs": [
    {
     "data": {
      "text/plain": [
       "0    10\n",
       "1    20\n",
       "2    30\n",
       "3    40\n",
       "4    50\n",
       "dtype: int32"
      ]
     },
     "execution_count": 49,
     "metadata": {},
     "output_type": "execute_result"
    }
   ],
   "source": [
    "series_a"
   ]
  },
  {
   "cell_type": "code",
   "execution_count": 50,
   "id": "a35967eb",
   "metadata": {},
   "outputs": [
    {
     "data": {
      "text/plain": [
       "RangeIndex(start=0, stop=5, step=1)"
      ]
     },
     "execution_count": 50,
     "metadata": {},
     "output_type": "execute_result"
    }
   ],
   "source": [
    "series_a.index"
   ]
  },
  {
   "cell_type": "code",
   "execution_count": 51,
   "id": "ae7b8833",
   "metadata": {},
   "outputs": [
    {
     "data": {
      "text/plain": [
       "pandas.core.indexes.range.RangeIndex"
      ]
     },
     "execution_count": 51,
     "metadata": {},
     "output_type": "execute_result"
    }
   ],
   "source": [
    "type(series_a.index)"
   ]
  },
  {
   "cell_type": "code",
   "execution_count": 52,
   "id": "ff39d80c",
   "metadata": {},
   "outputs": [
    {
     "data": {
      "text/plain": [
       "[0, 1, 2, 3, 4]"
      ]
     },
     "execution_count": 52,
     "metadata": {},
     "output_type": "execute_result"
    }
   ],
   "source": [
    "list(series_a.index)"
   ]
  },
  {
   "cell_type": "code",
   "execution_count": 53,
   "id": "0f05e6c1",
   "metadata": {},
   "outputs": [
    {
     "data": {
      "text/plain": [
       "Product A    10978\n",
       "Product B    56789\n",
       "Product C    34563\n",
       "dtype: int64"
      ]
     },
     "execution_count": 53,
     "metadata": {},
     "output_type": "execute_result"
    }
   ],
   "source": [
    "prices_per_category"
   ]
  },
  {
   "cell_type": "code",
   "execution_count": 54,
   "id": "5663bef7",
   "metadata": {},
   "outputs": [
    {
     "data": {
      "text/plain": [
       "Index(['Product A', 'Product B', 'Product C'], dtype='object')"
      ]
     },
     "execution_count": 54,
     "metadata": {},
     "output_type": "execute_result"
    }
   ],
   "source": [
    "prices_per_category.index"
   ]
  },
  {
   "cell_type": "code",
   "execution_count": 55,
   "id": "67940cef",
   "metadata": {},
   "outputs": [
    {
     "data": {
      "text/plain": [
       "pandas.core.indexes.base.Index"
      ]
     },
     "execution_count": 55,
     "metadata": {},
     "output_type": "execute_result"
    }
   ],
   "source": [
    "type(prices_per_category.index)"
   ]
  },
  {
   "cell_type": "markdown",
   "id": "4117f977",
   "metadata": {},
   "source": [
    "### **7. More on Working with Indices in Python**"
   ]
  },
  {
   "cell_type": "code",
   "execution_count": 56,
   "id": "2564e01a",
   "metadata": {},
   "outputs": [
    {
     "data": {
      "text/plain": [
       "0    10\n",
       "1    20\n",
       "2    30\n",
       "3    40\n",
       "4    50\n",
       "dtype: int32"
      ]
     },
     "execution_count": 56,
     "metadata": {},
     "output_type": "execute_result"
    }
   ],
   "source": [
    "series_a"
   ]
  },
  {
   "cell_type": "code",
   "execution_count": 57,
   "id": "481fc02d",
   "metadata": {},
   "outputs": [
    {
     "data": {
      "text/plain": [
       "Product A    10978\n",
       "Product B    56789\n",
       "Product C    34563\n",
       "dtype: int64"
      ]
     },
     "execution_count": 57,
     "metadata": {},
     "output_type": "execute_result"
    }
   ],
   "source": [
    "prices_per_category"
   ]
  },
  {
   "cell_type": "code",
   "execution_count": 58,
   "id": "ca655b2e",
   "metadata": {},
   "outputs": [
    {
     "data": {
      "text/plain": [
       "10"
      ]
     },
     "execution_count": 58,
     "metadata": {},
     "output_type": "execute_result"
    }
   ],
   "source": [
    "series_a[0]"
   ]
  },
  {
   "cell_type": "code",
   "execution_count": 59,
   "id": "de323442",
   "metadata": {},
   "outputs": [
    {
     "data": {
      "text/plain": [
       "10978"
      ]
     },
     "execution_count": 59,
     "metadata": {},
     "output_type": "execute_result"
    }
   ],
   "source": [
    "prices_per_category[\"Product A\"]"
   ]
  },
  {
   "cell_type": "code",
   "execution_count": 60,
   "id": "2e17c816",
   "metadata": {},
   "outputs": [
    {
     "data": {
      "text/plain": [
       "10978"
      ]
     },
     "execution_count": 60,
     "metadata": {},
     "output_type": "execute_result"
    }
   ],
   "source": [
    "prices_per_category[0]"
   ]
  },
  {
   "cell_type": "code",
   "execution_count": 61,
   "id": "5922233c",
   "metadata": {},
   "outputs": [
    {
     "data": {
      "text/plain": [
       "56789"
      ]
     },
     "execution_count": 61,
     "metadata": {},
     "output_type": "execute_result"
    }
   ],
   "source": [
    "prices_per_category[1]"
   ]
  },
  {
   "cell_type": "code",
   "execution_count": 62,
   "id": "e813c92c",
   "metadata": {},
   "outputs": [
    {
     "data": {
      "text/plain": [
       "34563"
      ]
     },
     "execution_count": 62,
     "metadata": {},
     "output_type": "execute_result"
    }
   ],
   "source": [
    "prices_per_category[2]"
   ]
  },
  {
   "cell_type": "code",
   "execution_count": 63,
   "id": "7b1ecc9a",
   "metadata": {},
   "outputs": [
    {
     "data": {
      "text/plain": [
       "1    10\n",
       "2    20\n",
       "3    30\n",
       "4    40\n",
       "5    50\n",
       "dtype: int64"
      ]
     },
     "execution_count": 63,
     "metadata": {},
     "output_type": "execute_result"
    }
   ],
   "source": [
    "series_b = pd.Series([10,20,30,40,50],index = [1,2,3,4,5])\n",
    "series_b"
   ]
  },
  {
   "cell_type": "code",
   "execution_count": 64,
   "id": "764324c1",
   "metadata": {},
   "outputs": [
    {
     "ename": "KeyError",
     "evalue": "0",
     "output_type": "error",
     "traceback": [
      "\u001b[1;31m---------------------------------------------------------------------------\u001b[0m",
      "\u001b[1;31mKeyError\u001b[0m                                  Traceback (most recent call last)",
      "File \u001b[1;32m~\\miniconda3\\envs\\datascience\\lib\\site-packages\\pandas\\core\\indexes\\base.py:3621\u001b[0m, in \u001b[0;36mIndex.get_loc\u001b[1;34m(self, key, method, tolerance)\u001b[0m\n\u001b[0;32m   3620\u001b[0m \u001b[38;5;28;01mtry\u001b[39;00m:\n\u001b[1;32m-> 3621\u001b[0m     \u001b[38;5;28;01mreturn\u001b[39;00m \u001b[38;5;28;43mself\u001b[39;49m\u001b[38;5;241;43m.\u001b[39;49m\u001b[43m_engine\u001b[49m\u001b[38;5;241;43m.\u001b[39;49m\u001b[43mget_loc\u001b[49m\u001b[43m(\u001b[49m\u001b[43mcasted_key\u001b[49m\u001b[43m)\u001b[49m\n\u001b[0;32m   3622\u001b[0m \u001b[38;5;28;01mexcept\u001b[39;00m \u001b[38;5;167;01mKeyError\u001b[39;00m \u001b[38;5;28;01mas\u001b[39;00m err:\n",
      "File \u001b[1;32m~\\miniconda3\\envs\\datascience\\lib\\site-packages\\pandas\\_libs\\index.pyx:136\u001b[0m, in \u001b[0;36mpandas._libs.index.IndexEngine.get_loc\u001b[1;34m()\u001b[0m\n",
      "File \u001b[1;32m~\\miniconda3\\envs\\datascience\\lib\\site-packages\\pandas\\_libs\\index.pyx:163\u001b[0m, in \u001b[0;36mpandas._libs.index.IndexEngine.get_loc\u001b[1;34m()\u001b[0m\n",
      "File \u001b[1;32mpandas\\_libs\\hashtable_class_helper.pxi:2131\u001b[0m, in \u001b[0;36mpandas._libs.hashtable.Int64HashTable.get_item\u001b[1;34m()\u001b[0m\n",
      "File \u001b[1;32mpandas\\_libs\\hashtable_class_helper.pxi:2140\u001b[0m, in \u001b[0;36mpandas._libs.hashtable.Int64HashTable.get_item\u001b[1;34m()\u001b[0m\n",
      "\u001b[1;31mKeyError\u001b[0m: 0",
      "\nThe above exception was the direct cause of the following exception:\n",
      "\u001b[1;31mKeyError\u001b[0m                                  Traceback (most recent call last)",
      "Input \u001b[1;32mIn [64]\u001b[0m, in \u001b[0;36m<cell line: 1>\u001b[1;34m()\u001b[0m\n\u001b[1;32m----> 1\u001b[0m \u001b[43mseries_b\u001b[49m\u001b[43m[\u001b[49m\u001b[38;5;241;43m0\u001b[39;49m\u001b[43m]\u001b[49m\n",
      "File \u001b[1;32m~\\miniconda3\\envs\\datascience\\lib\\site-packages\\pandas\\core\\series.py:958\u001b[0m, in \u001b[0;36mSeries.__getitem__\u001b[1;34m(self, key)\u001b[0m\n\u001b[0;32m    955\u001b[0m     \u001b[38;5;28;01mreturn\u001b[39;00m \u001b[38;5;28mself\u001b[39m\u001b[38;5;241m.\u001b[39m_values[key]\n\u001b[0;32m    957\u001b[0m \u001b[38;5;28;01melif\u001b[39;00m key_is_scalar:\n\u001b[1;32m--> 958\u001b[0m     \u001b[38;5;28;01mreturn\u001b[39;00m \u001b[38;5;28;43mself\u001b[39;49m\u001b[38;5;241;43m.\u001b[39;49m\u001b[43m_get_value\u001b[49m\u001b[43m(\u001b[49m\u001b[43mkey\u001b[49m\u001b[43m)\u001b[49m\n\u001b[0;32m    960\u001b[0m \u001b[38;5;28;01mif\u001b[39;00m is_hashable(key):\n\u001b[0;32m    961\u001b[0m     \u001b[38;5;66;03m# Otherwise index.get_value will raise InvalidIndexError\u001b[39;00m\n\u001b[0;32m    962\u001b[0m     \u001b[38;5;28;01mtry\u001b[39;00m:\n\u001b[0;32m    963\u001b[0m         \u001b[38;5;66;03m# For labels that don't resolve as scalars like tuples and frozensets\u001b[39;00m\n",
      "File \u001b[1;32m~\\miniconda3\\envs\\datascience\\lib\\site-packages\\pandas\\core\\series.py:1069\u001b[0m, in \u001b[0;36mSeries._get_value\u001b[1;34m(self, label, takeable)\u001b[0m\n\u001b[0;32m   1066\u001b[0m     \u001b[38;5;28;01mreturn\u001b[39;00m \u001b[38;5;28mself\u001b[39m\u001b[38;5;241m.\u001b[39m_values[label]\n\u001b[0;32m   1068\u001b[0m \u001b[38;5;66;03m# Similar to Index.get_value, but we do not fall back to positional\u001b[39;00m\n\u001b[1;32m-> 1069\u001b[0m loc \u001b[38;5;241m=\u001b[39m \u001b[38;5;28;43mself\u001b[39;49m\u001b[38;5;241;43m.\u001b[39;49m\u001b[43mindex\u001b[49m\u001b[38;5;241;43m.\u001b[39;49m\u001b[43mget_loc\u001b[49m\u001b[43m(\u001b[49m\u001b[43mlabel\u001b[49m\u001b[43m)\u001b[49m\n\u001b[0;32m   1070\u001b[0m \u001b[38;5;28;01mreturn\u001b[39;00m \u001b[38;5;28mself\u001b[39m\u001b[38;5;241m.\u001b[39mindex\u001b[38;5;241m.\u001b[39m_get_values_for_loc(\u001b[38;5;28mself\u001b[39m, loc, label)\n",
      "File \u001b[1;32m~\\miniconda3\\envs\\datascience\\lib\\site-packages\\pandas\\core\\indexes\\base.py:3623\u001b[0m, in \u001b[0;36mIndex.get_loc\u001b[1;34m(self, key, method, tolerance)\u001b[0m\n\u001b[0;32m   3621\u001b[0m     \u001b[38;5;28;01mreturn\u001b[39;00m \u001b[38;5;28mself\u001b[39m\u001b[38;5;241m.\u001b[39m_engine\u001b[38;5;241m.\u001b[39mget_loc(casted_key)\n\u001b[0;32m   3622\u001b[0m \u001b[38;5;28;01mexcept\u001b[39;00m \u001b[38;5;167;01mKeyError\u001b[39;00m \u001b[38;5;28;01mas\u001b[39;00m err:\n\u001b[1;32m-> 3623\u001b[0m     \u001b[38;5;28;01mraise\u001b[39;00m \u001b[38;5;167;01mKeyError\u001b[39;00m(key) \u001b[38;5;28;01mfrom\u001b[39;00m \u001b[38;5;21;01merr\u001b[39;00m\n\u001b[0;32m   3624\u001b[0m \u001b[38;5;28;01mexcept\u001b[39;00m \u001b[38;5;167;01mTypeError\u001b[39;00m:\n\u001b[0;32m   3625\u001b[0m     \u001b[38;5;66;03m# If we have a listlike key, _check_indexing_error will raise\u001b[39;00m\n\u001b[0;32m   3626\u001b[0m     \u001b[38;5;66;03m#  InvalidIndexError. Otherwise we fall through and re-raise\u001b[39;00m\n\u001b[0;32m   3627\u001b[0m     \u001b[38;5;66;03m#  the TypeError.\u001b[39;00m\n\u001b[0;32m   3628\u001b[0m     \u001b[38;5;28mself\u001b[39m\u001b[38;5;241m.\u001b[39m_check_indexing_error(key)\n",
      "\u001b[1;31mKeyError\u001b[0m: 0"
     ]
    }
   ],
   "source": [
    "series_b[0]"
   ]
  },
  {
   "cell_type": "code",
   "execution_count": 65,
   "id": "303a5597",
   "metadata": {},
   "outputs": [
    {
     "data": {
      "text/plain": [
       "10"
      ]
     },
     "execution_count": 65,
     "metadata": {},
     "output_type": "execute_result"
    }
   ],
   "source": [
    "series_b[1]"
   ]
  },
  {
   "cell_type": "code",
   "execution_count": 66,
   "id": "d5db56f2",
   "metadata": {},
   "outputs": [
    {
     "data": {
      "text/plain": [
       "1    10\n",
       "2    20\n",
       "3    30\n",
       "4    40\n",
       "5    50\n",
       "dtype: int64"
      ]
     },
     "execution_count": 66,
     "metadata": {},
     "output_type": "execute_result"
    }
   ],
   "source": [
    "series_c = pd.Series([10,20,30,40,50], index = ['1','2','3','4','5'])\n",
    "series_c"
   ]
  },
  {
   "cell_type": "code",
   "execution_count": 67,
   "id": "db8205b5",
   "metadata": {},
   "outputs": [
    {
     "data": {
      "text/plain": [
       "20"
      ]
     },
     "execution_count": 67,
     "metadata": {},
     "output_type": "execute_result"
    }
   ],
   "source": [
    "series_c[1]"
   ]
  },
  {
   "cell_type": "code",
   "execution_count": 68,
   "id": "de80c9a9",
   "metadata": {},
   "outputs": [
    {
     "data": {
      "text/plain": [
       "10"
      ]
     },
     "execution_count": 68,
     "metadata": {},
     "output_type": "execute_result"
    }
   ],
   "source": [
    "series_c[\"1\"]"
   ]
  },
  {
   "cell_type": "code",
   "execution_count": 69,
   "id": "b10f6bef",
   "metadata": {},
   "outputs": [
    {
     "data": {
      "text/plain": [
       "10"
      ]
     },
     "execution_count": 69,
     "metadata": {},
     "output_type": "execute_result"
    }
   ],
   "source": [
    "series_c[0]"
   ]
  },
  {
   "cell_type": "code",
   "execution_count": 70,
   "id": "2548cabd",
   "metadata": {},
   "outputs": [
    {
     "data": {
      "text/plain": [
       "Product A    10978\n",
       "Product B    56789\n",
       "Product C    34563\n",
       "dtype: int64"
      ]
     },
     "execution_count": 70,
     "metadata": {},
     "output_type": "execute_result"
    }
   ],
   "source": [
    "prices_per_category"
   ]
  },
  {
   "cell_type": "markdown",
   "id": "aefc506d",
   "metadata": {},
   "source": [
    "### **8. Using Methods in Python - Part I**"
   ]
  },
  {
   "cell_type": "code",
   "execution_count": 71,
   "id": "e8744501",
   "metadata": {},
   "outputs": [],
   "source": [
    "start_date_deposits = pd.Series({\n",
    "    '7/4/2014'   : 2000,\n",
    "    '1/2/2015'   : 2000,\n",
    "    '12/8/2012'  : 1000,\n",
    "    '2/20/2015'  : 2000,\n",
    "    '10/28/2013' : 2000,\n",
    "    '4/19/2015'  : 2000,\n",
    "    '7/4/2016'   : 2000,\n",
    "    '4/24/2014'  : 2000,\n",
    "    '9/3/2015'   : 4000,\n",
    "    '7/25/2016'  : 2000,\n",
    "    '5/1/2014'   : 2000,\n",
    "    '3/29/2013'  : 2000,\n",
    "    '10/3/2014'  : 2000,\n",
    "    '9/18/2015'  : 2500\n",
    "})"
   ]
  },
  {
   "cell_type": "code",
   "execution_count": 72,
   "id": "c4100ff4",
   "metadata": {},
   "outputs": [
    {
     "data": {
      "text/plain": [
       "7/4/2014      2000\n",
       "1/2/2015      2000\n",
       "12/8/2012     1000\n",
       "2/20/2015     2000\n",
       "10/28/2013    2000\n",
       "4/19/2015     2000\n",
       "7/4/2016      2000\n",
       "4/24/2014     2000\n",
       "9/3/2015      4000\n",
       "7/25/2016     2000\n",
       "5/1/2014      2000\n",
       "3/29/2013     2000\n",
       "10/3/2014     2000\n",
       "9/18/2015     2500\n",
       "dtype: int64"
      ]
     },
     "execution_count": 72,
     "metadata": {},
     "output_type": "execute_result"
    }
   ],
   "source": [
    "start_date_deposits"
   ]
  },
  {
   "cell_type": "code",
   "execution_count": 73,
   "id": "5c6d9b0a",
   "metadata": {},
   "outputs": [
    {
     "data": {
      "text/plain": [
       "<bound method NDFrame._add_numeric_operations.<locals>.sum of 7/4/2014      2000\n",
       "1/2/2015      2000\n",
       "12/8/2012     1000\n",
       "2/20/2015     2000\n",
       "10/28/2013    2000\n",
       "4/19/2015     2000\n",
       "7/4/2016      2000\n",
       "4/24/2014     2000\n",
       "9/3/2015      4000\n",
       "7/25/2016     2000\n",
       "5/1/2014      2000\n",
       "3/29/2013     2000\n",
       "10/3/2014     2000\n",
       "9/18/2015     2500\n",
       "dtype: int64>"
      ]
     },
     "execution_count": 73,
     "metadata": {},
     "output_type": "execute_result"
    }
   ],
   "source": [
    "start_date_deposits.sum"
   ]
  },
  {
   "cell_type": "code",
   "execution_count": 74,
   "id": "eee4b51d",
   "metadata": {},
   "outputs": [
    {
     "data": {
      "text/plain": [
       "29500"
      ]
     },
     "execution_count": 74,
     "metadata": {},
     "output_type": "execute_result"
    }
   ],
   "source": [
    "start_date_deposits.sum()"
   ]
  },
  {
   "cell_type": "code",
   "execution_count": 75,
   "id": "378f1f23",
   "metadata": {},
   "outputs": [
    {
     "data": {
      "text/plain": [
       "1000"
      ]
     },
     "execution_count": 75,
     "metadata": {},
     "output_type": "execute_result"
    }
   ],
   "source": [
    "start_date_deposits.min()"
   ]
  },
  {
   "cell_type": "code",
   "execution_count": 76,
   "id": "6a24e9ca",
   "metadata": {},
   "outputs": [
    {
     "data": {
      "text/plain": [
       "4000"
      ]
     },
     "execution_count": 76,
     "metadata": {},
     "output_type": "execute_result"
    }
   ],
   "source": [
    "start_date_deposits.max()"
   ]
  },
  {
   "cell_type": "code",
   "execution_count": 77,
   "id": "3cd29803",
   "metadata": {},
   "outputs": [
    {
     "data": {
      "text/plain": [
       "2107.1428571428573"
      ]
     },
     "execution_count": 77,
     "metadata": {},
     "output_type": "execute_result"
    }
   ],
   "source": [
    "start_date_deposits.mean()"
   ]
  },
  {
   "cell_type": "code",
   "execution_count": 81,
   "id": "ba257628",
   "metadata": {},
   "outputs": [
    {
     "data": {
      "text/plain": [
       "'9/3/2015'"
      ]
     },
     "execution_count": 81,
     "metadata": {},
     "output_type": "execute_result"
    }
   ],
   "source": [
    "start_date_deposits.idxmax() # Return index of max values"
   ]
  },
  {
   "cell_type": "code",
   "execution_count": 82,
   "id": "8ab2072f",
   "metadata": {},
   "outputs": [
    {
     "data": {
      "text/plain": [
       "'12/8/2012'"
      ]
     },
     "execution_count": 82,
     "metadata": {},
     "output_type": "execute_result"
    }
   ],
   "source": [
    "start_date_deposits.idxmin() # Return index of min values"
   ]
  },
  {
   "cell_type": "markdown",
   "id": "acd3144c",
   "metadata": {},
   "source": [
    "### **9. Using Methods in Python - Part II(Non_mathematical methods(Like for categories etc))**"
   ]
  },
  {
   "cell_type": "code",
   "execution_count": 83,
   "id": "1c4721b8",
   "metadata": {},
   "outputs": [
    {
     "data": {
      "text/plain": [
       "7/4/2014      2000\n",
       "1/2/2015      2000\n",
       "12/8/2012     1000\n",
       "2/20/2015     2000\n",
       "10/28/2013    2000\n",
       "4/19/2015     2000\n",
       "7/4/2016      2000\n",
       "4/24/2014     2000\n",
       "9/3/2015      4000\n",
       "7/25/2016     2000\n",
       "5/1/2014      2000\n",
       "3/29/2013     2000\n",
       "10/3/2014     2000\n",
       "9/18/2015     2500\n",
       "dtype: int64"
      ]
     },
     "execution_count": 83,
     "metadata": {},
     "output_type": "execute_result"
    }
   ],
   "source": [
    "start_date_deposits"
   ]
  },
  {
   "cell_type": "code",
   "execution_count": 84,
   "id": "7df0ff4c",
   "metadata": {},
   "outputs": [
    {
     "data": {
      "text/plain": [
       "7/4/2014      2000\n",
       "1/2/2015      2000\n",
       "12/8/2012     1000\n",
       "2/20/2015     2000\n",
       "10/28/2013    2000\n",
       "dtype: int64"
      ]
     },
     "execution_count": 84,
     "metadata": {},
     "output_type": "execute_result"
    }
   ],
   "source": [
    "start_date_deposits.head()"
   ]
  },
  {
   "cell_type": "code",
   "execution_count": 85,
   "id": "03d59c60",
   "metadata": {},
   "outputs": [
    {
     "data": {
      "text/plain": [
       "7/25/2016    2000\n",
       "5/1/2014     2000\n",
       "3/29/2013    2000\n",
       "10/3/2014    2000\n",
       "9/18/2015    2500\n",
       "dtype: int64"
      ]
     },
     "execution_count": 85,
     "metadata": {},
     "output_type": "execute_result"
    }
   ],
   "source": [
    "start_date_deposits.tail()"
   ]
  },
  {
   "cell_type": "markdown",
   "id": "41c6193a",
   "metadata": {},
   "source": [
    "### **10. Parameters vs Arguments**"
   ]
  },
  {
   "cell_type": "code",
   "execution_count": 86,
   "id": "1591e050",
   "metadata": {},
   "outputs": [
    {
     "data": {
      "text/plain": [
       "7/4/2014      2000\n",
       "1/2/2015      2000\n",
       "12/8/2012     1000\n",
       "2/20/2015     2000\n",
       "10/28/2013    2000\n",
       "4/19/2015     2000\n",
       "7/4/2016      2000\n",
       "4/24/2014     2000\n",
       "9/3/2015      4000\n",
       "7/25/2016     2000\n",
       "5/1/2014      2000\n",
       "3/29/2013     2000\n",
       "10/3/2014     2000\n",
       "9/18/2015     2500\n",
       "dtype: int64"
      ]
     },
     "execution_count": 86,
     "metadata": {},
     "output_type": "execute_result"
    }
   ],
   "source": [
    "start_date_deposits"
   ]
  },
  {
   "cell_type": "code",
   "execution_count": 87,
   "id": "f84423b2",
   "metadata": {},
   "outputs": [
    {
     "data": {
      "text/plain": [
       "7/4/2014     2000\n",
       "1/2/2015     2000\n",
       "12/8/2012    1000\n",
       "dtype: int64"
      ]
     },
     "execution_count": 87,
     "metadata": {},
     "output_type": "execute_result"
    }
   ],
   "source": [
    "start_date_deposits.head(3)"
   ]
  },
  {
   "cell_type": "code",
   "execution_count": 88,
   "id": "6fa29257",
   "metadata": {},
   "outputs": [
    {
     "data": {
      "text/plain": [
       "7/4/2014      2000\n",
       "1/2/2015      2000\n",
       "12/8/2012     1000\n",
       "2/20/2015     2000\n",
       "10/28/2013    2000\n",
       "4/19/2015     2000\n",
       "7/4/2016      2000\n",
       "4/24/2014     2000\n",
       "9/3/2015      4000\n",
       "7/25/2016     2000\n",
       "dtype: int64"
      ]
     },
     "execution_count": 88,
     "metadata": {},
     "output_type": "execute_result"
    }
   ],
   "source": [
    "start_date_deposits.head(10)"
   ]
  },
  {
   "cell_type": "code",
   "execution_count": 89,
   "id": "17401e35",
   "metadata": {},
   "outputs": [
    {
     "data": {
      "text/plain": [
       "14"
      ]
     },
     "execution_count": 89,
     "metadata": {},
     "output_type": "execute_result"
    }
   ],
   "source": [
    "len(start_date_deposits)"
   ]
  },
  {
   "cell_type": "code",
   "execution_count": 90,
   "id": "3b08031d",
   "metadata": {},
   "outputs": [
    {
     "data": {
      "text/plain": [
       "7/4/2014      2000\n",
       "1/2/2015      2000\n",
       "12/8/2012     1000\n",
       "2/20/2015     2000\n",
       "10/28/2013    2000\n",
       "dtype: int64"
      ]
     },
     "execution_count": 90,
     "metadata": {},
     "output_type": "execute_result"
    }
   ],
   "source": [
    "start_date_deposits.head()"
   ]
  },
  {
   "cell_type": "code",
   "execution_count": 92,
   "id": "6641461a",
   "metadata": {},
   "outputs": [
    {
     "data": {
      "text/plain": [
       "7/4/2014      2000\n",
       "1/2/2015      2000\n",
       "12/8/2012     1000\n",
       "2/20/2015     2000\n",
       "10/28/2013    2000\n",
       "4/19/2015     2000\n",
       "7/4/2016      2000\n",
       "4/24/2014     2000\n",
       "9/3/2015      4000\n",
       "7/25/2016     2000\n",
       "dtype: int64"
      ]
     },
     "execution_count": 92,
     "metadata": {},
     "output_type": "execute_result"
    }
   ],
   "source": [
    "start_date_deposits.head(n=10)"
   ]
  },
  {
   "cell_type": "markdown",
   "id": "60672358",
   "metadata": {},
   "source": [
    "### **12. Introduction to pandas DataFrames**"
   ]
  },
  {
   "cell_type": "code",
   "execution_count": 93,
   "id": "a3e15713",
   "metadata": {},
   "outputs": [
    {
     "data": {
      "text/html": [
       "<div>\n",
       "<style scoped>\n",
       "    .dataframe tbody tr th:only-of-type {\n",
       "        vertical-align: middle;\n",
       "    }\n",
       "\n",
       "    .dataframe tbody tr th {\n",
       "        vertical-align: top;\n",
       "    }\n",
       "\n",
       "    .dataframe thead th {\n",
       "        text-align: right;\n",
       "    }\n",
       "</style>\n",
       "<table border=\"1\" class=\"dataframe\">\n",
       "  <thead>\n",
       "    <tr style=\"text-align: right;\">\n",
       "      <th></th>\n",
       "      <th>Name</th>\n",
       "      <th>Age</th>\n",
       "      <th>Working Experience (Yrs.)</th>\n",
       "    </tr>\n",
       "  </thead>\n",
       "  <tbody>\n",
       "    <tr>\n",
       "      <th>0</th>\n",
       "      <td>Amy White</td>\n",
       "      <td>50</td>\n",
       "      <td>5</td>\n",
       "    </tr>\n",
       "    <tr>\n",
       "      <th>1</th>\n",
       "      <td>Jack Stewart</td>\n",
       "      <td>53</td>\n",
       "      <td>8</td>\n",
       "    </tr>\n",
       "    <tr>\n",
       "      <th>2</th>\n",
       "      <td>Richard Lauderdale</td>\n",
       "      <td>35</td>\n",
       "      <td>3</td>\n",
       "    </tr>\n",
       "    <tr>\n",
       "      <th>3</th>\n",
       "      <td>Sara Johnson</td>\n",
       "      <td>43</td>\n",
       "      <td>10</td>\n",
       "    </tr>\n",
       "  </tbody>\n",
       "</table>\n",
       "</div>"
      ],
      "text/plain": [
       "                 Name  Age  Working Experience (Yrs.)\n",
       "0           Amy White   50                          5\n",
       "1        Jack Stewart   53                          8\n",
       "2  Richard Lauderdale   35                          3\n",
       "3        Sara Johnson   43                         10"
      ]
     },
     "execution_count": 93,
     "metadata": {},
     "output_type": "execute_result"
    }
   ],
   "source": [
    "data = {\n",
    "    \"Name\":['Amy White', 'Jack Stewart', 'Richard Lauderdale', 'Sara Johnson'], \n",
    "    \"Age\":[50, 53, 35, 43], \n",
    "    \"Working Experience (Yrs.)\":[5,8,3,10]}\n",
    "df = pd.DataFrame(data)\n",
    "df"
   ]
  },
  {
   "cell_type": "markdown",
   "id": "810d12cf",
   "metadata": {},
   "source": [
    "### **13. Creating DataFrames from Scratch - Part I**"
   ]
  },
  {
   "cell_type": "code",
   "execution_count": 95,
   "id": "da038350",
   "metadata": {},
   "outputs": [
    {
     "data": {
      "text/html": [
       "<div>\n",
       "<style scoped>\n",
       "    .dataframe tbody tr th:only-of-type {\n",
       "        vertical-align: middle;\n",
       "    }\n",
       "\n",
       "    .dataframe tbody tr th {\n",
       "        vertical-align: top;\n",
       "    }\n",
       "\n",
       "    .dataframe thead th {\n",
       "        text-align: right;\n",
       "    }\n",
       "</style>\n",
       "<table border=\"1\" class=\"dataframe\">\n",
       "  <thead>\n",
       "    <tr style=\"text-align: right;\">\n",
       "      <th></th>\n",
       "      <th>Product Name</th>\n",
       "      <th>Product Price</th>\n",
       "    </tr>\n",
       "  </thead>\n",
       "  <tbody>\n",
       "    <tr>\n",
       "      <th>0</th>\n",
       "      <td>Product A</td>\n",
       "      <td>22350</td>\n",
       "    </tr>\n",
       "    <tr>\n",
       "      <th>1</th>\n",
       "      <td>Product B</td>\n",
       "      <td>16098</td>\n",
       "    </tr>\n",
       "    <tr>\n",
       "      <th>2</th>\n",
       "      <td>Product C</td>\n",
       "      <td>98342</td>\n",
       "    </tr>\n",
       "  </tbody>\n",
       "</table>\n",
       "</div>"
      ],
      "text/plain": [
       "  Product Name  Product Price\n",
       "0    Product A          22350\n",
       "1    Product B          16098\n",
       "2    Product C          98342"
      ]
     },
     "execution_count": 95,
     "metadata": {},
     "output_type": "execute_result"
    }
   ],
   "source": [
    "data = {'Product Name': ['Product A','Product B','Product C'], 'Product Price': [22350,16098,98342]}\n",
    "df = pd.DataFrame(data)\n",
    "df"
   ]
  },
  {
   "cell_type": "markdown",
   "id": "cce4fe7a",
   "metadata": {},
   "source": [
    "Constract a DataFrame from a dictionary of lists + specify an index"
   ]
  },
  {
   "cell_type": "code",
   "execution_count": 96,
   "id": "010533f7",
   "metadata": {},
   "outputs": [
    {
     "data": {
      "text/html": [
       "<div>\n",
       "<style scoped>\n",
       "    .dataframe tbody tr th:only-of-type {\n",
       "        vertical-align: middle;\n",
       "    }\n",
       "\n",
       "    .dataframe tbody tr th {\n",
       "        vertical-align: top;\n",
       "    }\n",
       "\n",
       "    .dataframe thead th {\n",
       "        text-align: right;\n",
       "    }\n",
       "</style>\n",
       "<table border=\"1\" class=\"dataframe\">\n",
       "  <thead>\n",
       "    <tr style=\"text-align: right;\">\n",
       "      <th></th>\n",
       "      <th>Product Name</th>\n",
       "      <th>Product Price</th>\n",
       "    </tr>\n",
       "  </thead>\n",
       "  <tbody>\n",
       "    <tr>\n",
       "      <th>A</th>\n",
       "      <td>Product A</td>\n",
       "      <td>22350</td>\n",
       "    </tr>\n",
       "    <tr>\n",
       "      <th>B</th>\n",
       "      <td>Product B</td>\n",
       "      <td>16098</td>\n",
       "    </tr>\n",
       "    <tr>\n",
       "      <th>C</th>\n",
       "      <td>Product C</td>\n",
       "      <td>98342</td>\n",
       "    </tr>\n",
       "  </tbody>\n",
       "</table>\n",
       "</div>"
      ],
      "text/plain": [
       "  Product Name  Product Price\n",
       "A    Product A          22350\n",
       "B    Product B          16098\n",
       "C    Product C          98342"
      ]
     },
     "execution_count": 96,
     "metadata": {},
     "output_type": "execute_result"
    }
   ],
   "source": [
    "data = {'Product Name': ['Product A','Product B','Product C'], 'Product Price': [22350,16098,98342]}\n",
    "df = pd.DataFrame(data, index = ['A','B','C'])\n",
    "df"
   ]
  },
  {
   "cell_type": "code",
   "execution_count": 97,
   "id": "5f0e9604",
   "metadata": {},
   "outputs": [
    {
     "data": {
      "text/html": [
       "<div>\n",
       "<style scoped>\n",
       "    .dataframe tbody tr th:only-of-type {\n",
       "        vertical-align: middle;\n",
       "    }\n",
       "\n",
       "    .dataframe tbody tr th {\n",
       "        vertical-align: top;\n",
       "    }\n",
       "\n",
       "    .dataframe thead th {\n",
       "        text-align: right;\n",
       "    }\n",
       "</style>\n",
       "<table border=\"1\" class=\"dataframe\">\n",
       "  <thead>\n",
       "    <tr style=\"text-align: right;\">\n",
       "      <th></th>\n",
       "      <th>Product Name</th>\n",
       "      <th>Product Price</th>\n",
       "    </tr>\n",
       "  </thead>\n",
       "  <tbody>\n",
       "    <tr>\n",
       "      <th>A</th>\n",
       "      <td>Product A</td>\n",
       "      <td>22350</td>\n",
       "    </tr>\n",
       "    <tr>\n",
       "      <th>B</th>\n",
       "      <td>Product B</td>\n",
       "      <td>16098</td>\n",
       "    </tr>\n",
       "    <tr>\n",
       "      <th>C</th>\n",
       "      <td>Product C</td>\n",
       "      <td>98342</td>\n",
       "    </tr>\n",
       "  </tbody>\n",
       "</table>\n",
       "</div>"
      ],
      "text/plain": [
       "  Product Name  Product Price\n",
       "A    Product A          22350\n",
       "B    Product B          16098\n",
       "C    Product C          98342"
      ]
     },
     "execution_count": 97,
     "metadata": {},
     "output_type": "execute_result"
    }
   ],
   "source": [
    "data = {'Product Name': ['Product A','Product B','Product C'], 'Product Price': [22350,16098,98342]}\n",
    "product_ids = ['A','B','C']\n",
    "df = pd.DataFrame(data, index = product_ids )\n",
    "df"
   ]
  },
  {
   "cell_type": "markdown",
   "id": "d5da96c4",
   "metadata": {},
   "source": [
    "Construct a DataFrame from a list of dictionaries"
   ]
  },
  {
   "cell_type": "code",
   "execution_count": 98,
   "id": "4b16f8d2",
   "metadata": {},
   "outputs": [
    {
     "data": {
      "text/html": [
       "<div>\n",
       "<style scoped>\n",
       "    .dataframe tbody tr th:only-of-type {\n",
       "        vertical-align: middle;\n",
       "    }\n",
       "\n",
       "    .dataframe tbody tr th {\n",
       "        vertical-align: top;\n",
       "    }\n",
       "\n",
       "    .dataframe thead th {\n",
       "        text-align: right;\n",
       "    }\n",
       "</style>\n",
       "<table border=\"1\" class=\"dataframe\">\n",
       "  <thead>\n",
       "    <tr style=\"text-align: right;\">\n",
       "      <th></th>\n",
       "      <th>ProductName</th>\n",
       "      <th>ProductPrice</th>\n",
       "    </tr>\n",
       "  </thead>\n",
       "  <tbody>\n",
       "    <tr>\n",
       "      <th>0</th>\n",
       "      <td>Product A</td>\n",
       "      <td>22250</td>\n",
       "    </tr>\n",
       "    <tr>\n",
       "      <th>1</th>\n",
       "      <td>Product B</td>\n",
       "      <td>16600</td>\n",
       "    </tr>\n",
       "    <tr>\n",
       "      <th>2</th>\n",
       "      <td>Product C</td>\n",
       "      <td>12500</td>\n",
       "    </tr>\n",
       "  </tbody>\n",
       "</table>\n",
       "</div>"
      ],
      "text/plain": [
       "  ProductName  ProductPrice\n",
       "0   Product A         22250\n",
       "1   Product B         16600\n",
       "2   Product C         12500"
      ]
     },
     "execution_count": 98,
     "metadata": {},
     "output_type": "execute_result"
    }
   ],
   "source": [
    "data = [{'ProductName':'Product A', 'ProductPrice':22250}, \n",
    "        {'ProductName':'Product B', 'ProductPrice':16600}, \n",
    "        {'ProductName':'Product C', 'ProductPrice':12500}]\n",
    "df = pd.DataFrame(data)\n",
    "df"
   ]
  },
  {
   "cell_type": "code",
   "execution_count": 99,
   "id": "21a09c6d",
   "metadata": {},
   "outputs": [
    {
     "data": {
      "text/html": [
       "<div>\n",
       "<style scoped>\n",
       "    .dataframe tbody tr th:only-of-type {\n",
       "        vertical-align: middle;\n",
       "    }\n",
       "\n",
       "    .dataframe tbody tr th {\n",
       "        vertical-align: top;\n",
       "    }\n",
       "\n",
       "    .dataframe thead th {\n",
       "        text-align: right;\n",
       "    }\n",
       "</style>\n",
       "<table border=\"1\" class=\"dataframe\">\n",
       "  <thead>\n",
       "    <tr style=\"text-align: right;\">\n",
       "      <th></th>\n",
       "      <th>ProductName</th>\n",
       "      <th>ProductPrice</th>\n",
       "    </tr>\n",
       "  </thead>\n",
       "  <tbody>\n",
       "    <tr>\n",
       "      <th>0</th>\n",
       "      <td>Product A</td>\n",
       "      <td>22250</td>\n",
       "    </tr>\n",
       "    <tr>\n",
       "      <th>1</th>\n",
       "      <td>Product B</td>\n",
       "      <td>16600</td>\n",
       "    </tr>\n",
       "    <tr>\n",
       "      <th>2</th>\n",
       "      <td>Product C</td>\n",
       "      <td>[12500, 100000]</td>\n",
       "    </tr>\n",
       "  </tbody>\n",
       "</table>\n",
       "</div>"
      ],
      "text/plain": [
       "  ProductName     ProductPrice\n",
       "0   Product A            22250\n",
       "1   Product B            16600\n",
       "2   Product C  [12500, 100000]"
      ]
     },
     "execution_count": 99,
     "metadata": {},
     "output_type": "execute_result"
    }
   ],
   "source": [
    "data = [{'ProductName':'Product A', 'ProductPrice':22250}, \n",
    "        {'ProductName':'Product B', 'ProductPrice':16600}, \n",
    "        {'ProductName':'Product C', 'ProductPrice':[12500, 100000]}]\n",
    "df = pd.DataFrame(data)\n",
    "df"
   ]
  },
  {
   "cell_type": "code",
   "execution_count": 100,
   "id": "e8545336",
   "metadata": {},
   "outputs": [
    {
     "data": {
      "text/html": [
       "<div>\n",
       "<style scoped>\n",
       "    .dataframe tbody tr th:only-of-type {\n",
       "        vertical-align: middle;\n",
       "    }\n",
       "\n",
       "    .dataframe tbody tr th {\n",
       "        vertical-align: top;\n",
       "    }\n",
       "\n",
       "    .dataframe thead th {\n",
       "        text-align: right;\n",
       "    }\n",
       "</style>\n",
       "<table border=\"1\" class=\"dataframe\">\n",
       "  <thead>\n",
       "    <tr style=\"text-align: right;\">\n",
       "      <th></th>\n",
       "      <th>ProductName</th>\n",
       "      <th>ProductPrice</th>\n",
       "    </tr>\n",
       "  </thead>\n",
       "  <tbody>\n",
       "    <tr>\n",
       "      <th>0</th>\n",
       "      <td>Product A</td>\n",
       "      <td>22250.0</td>\n",
       "    </tr>\n",
       "    <tr>\n",
       "      <th>1</th>\n",
       "      <td>Product B</td>\n",
       "      <td>16600.0</td>\n",
       "    </tr>\n",
       "    <tr>\n",
       "      <th>2</th>\n",
       "      <td>Product C</td>\n",
       "      <td>12500.0</td>\n",
       "    </tr>\n",
       "    <tr>\n",
       "      <th>3</th>\n",
       "      <td>Product D</td>\n",
       "      <td>NaN</td>\n",
       "    </tr>\n",
       "  </tbody>\n",
       "</table>\n",
       "</div>"
      ],
      "text/plain": [
       "  ProductName  ProductPrice\n",
       "0   Product A       22250.0\n",
       "1   Product B       16600.0\n",
       "2   Product C       12500.0\n",
       "3   Product D           NaN"
      ]
     },
     "execution_count": 100,
     "metadata": {},
     "output_type": "execute_result"
    }
   ],
   "source": [
    "data = [{'ProductName':'Product A', 'ProductPrice':22250}, \n",
    "        {'ProductName':'Product B', 'ProductPrice':16600}, \n",
    "        {'ProductName':'Product C', 'ProductPrice':12500},\n",
    "        {'ProductName':'Product D'}]\n",
    "df = pd.DataFrame(data)\n",
    "df"
   ]
  },
  {
   "cell_type": "markdown",
   "id": "6839338f",
   "metadata": {},
   "source": [
    "### **14. Creating DataFrames from Scratch - Part II**"
   ]
  },
  {
   "cell_type": "markdown",
   "id": "44f7c8dc",
   "metadata": {},
   "source": [
    "Construct a DataFrame from a dictionary of pandas Series"
   ]
  },
  {
   "cell_type": "code",
   "execution_count": 101,
   "id": "23bc98fc",
   "metadata": {},
   "outputs": [],
   "source": [
    "series_products = pd.Series(['Product A','Product B','Product C'])\n",
    "series_prices = pd.Series([29874,18733,29876])"
   ]
  },
  {
   "cell_type": "code",
   "execution_count": 102,
   "id": "8e3c8f7b",
   "metadata": {},
   "outputs": [
    {
     "data": {
      "text/html": [
       "<div>\n",
       "<style scoped>\n",
       "    .dataframe tbody tr th:only-of-type {\n",
       "        vertical-align: middle;\n",
       "    }\n",
       "\n",
       "    .dataframe tbody tr th {\n",
       "        vertical-align: top;\n",
       "    }\n",
       "\n",
       "    .dataframe thead th {\n",
       "        text-align: right;\n",
       "    }\n",
       "</style>\n",
       "<table border=\"1\" class=\"dataframe\">\n",
       "  <thead>\n",
       "    <tr style=\"text-align: right;\">\n",
       "      <th></th>\n",
       "      <th>Product Name</th>\n",
       "      <th>Product Price</th>\n",
       "    </tr>\n",
       "  </thead>\n",
       "  <tbody>\n",
       "    <tr>\n",
       "      <th>0</th>\n",
       "      <td>Product A</td>\n",
       "      <td>29874</td>\n",
       "    </tr>\n",
       "    <tr>\n",
       "      <th>1</th>\n",
       "      <td>Product B</td>\n",
       "      <td>18733</td>\n",
       "    </tr>\n",
       "    <tr>\n",
       "      <th>2</th>\n",
       "      <td>Product C</td>\n",
       "      <td>29876</td>\n",
       "    </tr>\n",
       "  </tbody>\n",
       "</table>\n",
       "</div>"
      ],
      "text/plain": [
       "  Product Name  Product Price\n",
       "0    Product A          29874\n",
       "1    Product B          18733\n",
       "2    Product C          29876"
      ]
     },
     "execution_count": 102,
     "metadata": {},
     "output_type": "execute_result"
    }
   ],
   "source": [
    "data = {'Product Name': series_products, 'Product Price': series_prices}\n",
    "df = pd.DataFrame(data)\n",
    "df"
   ]
  },
  {
   "cell_type": "code",
   "execution_count": 103,
   "id": "831aa819",
   "metadata": {},
   "outputs": [
    {
     "data": {
      "text/html": [
       "<div>\n",
       "<style scoped>\n",
       "    .dataframe tbody tr th:only-of-type {\n",
       "        vertical-align: middle;\n",
       "    }\n",
       "\n",
       "    .dataframe tbody tr th {\n",
       "        vertical-align: top;\n",
       "    }\n",
       "\n",
       "    .dataframe thead th {\n",
       "        text-align: right;\n",
       "    }\n",
       "</style>\n",
       "<table border=\"1\" class=\"dataframe\">\n",
       "  <thead>\n",
       "    <tr style=\"text-align: right;\">\n",
       "      <th></th>\n",
       "      <th>ProductName</th>\n",
       "      <th>ProductPrice</th>\n",
       "    </tr>\n",
       "  </thead>\n",
       "  <tbody>\n",
       "    <tr>\n",
       "      <th>A</th>\n",
       "      <td>Product A</td>\n",
       "      <td>22250</td>\n",
       "    </tr>\n",
       "    <tr>\n",
       "      <th>B</th>\n",
       "      <td>Product B</td>\n",
       "      <td>16600</td>\n",
       "    </tr>\n",
       "    <tr>\n",
       "      <th>C</th>\n",
       "      <td>Product C</td>\n",
       "      <td>12500</td>\n",
       "    </tr>\n",
       "  </tbody>\n",
       "</table>\n",
       "</div>"
      ],
      "text/plain": [
       "  ProductName  ProductPrice\n",
       "A   Product A         22250\n",
       "B   Product B         16600\n",
       "C   Product C         12500"
      ]
     },
     "execution_count": 103,
     "metadata": {},
     "output_type": "execute_result"
    }
   ],
   "source": [
    "ser_products = pd.Series(['Product A', 'Product B', 'Product C'], index = ['A', 'B', 'C'])\n",
    "ser_prices = pd.Series([22250, 16600, 12500], index = ['A', 'B', 'C'])\n",
    "\n",
    "data = {'ProductName':ser_products, 'ProductPrice':ser_prices}\n",
    "df = pd.DataFrame(data)\n",
    "df"
   ]
  },
  {
   "cell_type": "code",
   "execution_count": 104,
   "id": "467dde45",
   "metadata": {},
   "outputs": [
    {
     "data": {
      "text/html": [
       "<div>\n",
       "<style scoped>\n",
       "    .dataframe tbody tr th:only-of-type {\n",
       "        vertical-align: middle;\n",
       "    }\n",
       "\n",
       "    .dataframe tbody tr th {\n",
       "        vertical-align: top;\n",
       "    }\n",
       "\n",
       "    .dataframe thead th {\n",
       "        text-align: right;\n",
       "    }\n",
       "</style>\n",
       "<table border=\"1\" class=\"dataframe\">\n",
       "  <thead>\n",
       "    <tr style=\"text-align: right;\">\n",
       "      <th></th>\n",
       "      <th>ProductName</th>\n",
       "      <th>ProductPrice</th>\n",
       "    </tr>\n",
       "  </thead>\n",
       "  <tbody>\n",
       "    <tr>\n",
       "      <th>A</th>\n",
       "      <td>Product A</td>\n",
       "      <td>12500</td>\n",
       "    </tr>\n",
       "    <tr>\n",
       "      <th>B</th>\n",
       "      <td>Product B</td>\n",
       "      <td>16600</td>\n",
       "    </tr>\n",
       "    <tr>\n",
       "      <th>C</th>\n",
       "      <td>Product C</td>\n",
       "      <td>22250</td>\n",
       "    </tr>\n",
       "  </tbody>\n",
       "</table>\n",
       "</div>"
      ],
      "text/plain": [
       "  ProductName  ProductPrice\n",
       "A   Product A         12500\n",
       "B   Product B         16600\n",
       "C   Product C         22250"
      ]
     },
     "execution_count": 104,
     "metadata": {},
     "output_type": "execute_result"
    }
   ],
   "source": [
    "ser_products = pd.Series(['Product A', 'Product B', 'Product C'], index = ['A', 'B', 'C'])\n",
    "ser_prices = pd.Series([22250, 16600, 12500], index = ['C', 'B', 'A'])\n",
    "\n",
    "data = {'ProductName':ser_products, 'ProductPrice':ser_prices}\n",
    "df = pd.DataFrame(data)\n",
    "df"
   ]
  },
  {
   "cell_type": "markdown",
   "id": "c5f7aaa0",
   "metadata": {},
   "source": [
    "Construct a DataFrame from a list of lists"
   ]
  },
  {
   "cell_type": "code",
   "execution_count": 105,
   "id": "b3fe01ec",
   "metadata": {},
   "outputs": [
    {
     "data": {
      "text/html": [
       "<div>\n",
       "<style scoped>\n",
       "    .dataframe tbody tr th:only-of-type {\n",
       "        vertical-align: middle;\n",
       "    }\n",
       "\n",
       "    .dataframe tbody tr th {\n",
       "        vertical-align: top;\n",
       "    }\n",
       "\n",
       "    .dataframe thead th {\n",
       "        text-align: right;\n",
       "    }\n",
       "</style>\n",
       "<table border=\"1\" class=\"dataframe\">\n",
       "  <thead>\n",
       "    <tr style=\"text-align: right;\">\n",
       "      <th></th>\n",
       "      <th>0</th>\n",
       "      <th>1</th>\n",
       "    </tr>\n",
       "  </thead>\n",
       "  <tbody>\n",
       "    <tr>\n",
       "      <th>0</th>\n",
       "      <td>Product A</td>\n",
       "      <td>22250</td>\n",
       "    </tr>\n",
       "    <tr>\n",
       "      <th>1</th>\n",
       "      <td>Product B</td>\n",
       "      <td>16600</td>\n",
       "    </tr>\n",
       "    <tr>\n",
       "      <th>2</th>\n",
       "      <td>Product C</td>\n",
       "      <td>12500</td>\n",
       "    </tr>\n",
       "  </tbody>\n",
       "</table>\n",
       "</div>"
      ],
      "text/plain": [
       "           0      1\n",
       "0  Product A  22250\n",
       "1  Product B  16600\n",
       "2  Product C  12500"
      ]
     },
     "execution_count": 105,
     "metadata": {},
     "output_type": "execute_result"
    }
   ],
   "source": [
    "data = [['Product A', 22250], ['Product B', 16600], ['Product C', 12500]]\n",
    "df = pd.DataFrame(data)\n",
    "df"
   ]
  },
  {
   "cell_type": "code",
   "execution_count": 106,
   "id": "9dff9a2a",
   "metadata": {},
   "outputs": [
    {
     "data": {
      "text/html": [
       "<div>\n",
       "<style scoped>\n",
       "    .dataframe tbody tr th:only-of-type {\n",
       "        vertical-align: middle;\n",
       "    }\n",
       "\n",
       "    .dataframe tbody tr th {\n",
       "        vertical-align: top;\n",
       "    }\n",
       "\n",
       "    .dataframe thead th {\n",
       "        text-align: right;\n",
       "    }\n",
       "</style>\n",
       "<table border=\"1\" class=\"dataframe\">\n",
       "  <thead>\n",
       "    <tr style=\"text-align: right;\">\n",
       "      <th></th>\n",
       "      <th>0</th>\n",
       "      <th>1</th>\n",
       "      <th>2</th>\n",
       "    </tr>\n",
       "  </thead>\n",
       "  <tbody>\n",
       "    <tr>\n",
       "      <th>0</th>\n",
       "      <td>Product A</td>\n",
       "      <td>22250</td>\n",
       "      <td>NaN</td>\n",
       "    </tr>\n",
       "    <tr>\n",
       "      <th>1</th>\n",
       "      <td>Product B</td>\n",
       "      <td>16600</td>\n",
       "      <td>NaN</td>\n",
       "    </tr>\n",
       "    <tr>\n",
       "      <th>2</th>\n",
       "      <td>Product C</td>\n",
       "      <td>12500</td>\n",
       "      <td>5000.0</td>\n",
       "    </tr>\n",
       "  </tbody>\n",
       "</table>\n",
       "</div>"
      ],
      "text/plain": [
       "           0      1       2\n",
       "0  Product A  22250     NaN\n",
       "1  Product B  16600     NaN\n",
       "2  Product C  12500  5000.0"
      ]
     },
     "execution_count": 106,
     "metadata": {},
     "output_type": "execute_result"
    }
   ],
   "source": [
    "data = [['Product A', 22250], ['Product B', 16600], ['Product C', 12500, 5000]]\n",
    "df = pd.DataFrame(data)\n",
    "df"
   ]
  },
  {
   "cell_type": "code",
   "execution_count": 107,
   "id": "1495e95c",
   "metadata": {},
   "outputs": [
    {
     "data": {
      "text/html": [
       "<div>\n",
       "<style scoped>\n",
       "    .dataframe tbody tr th:only-of-type {\n",
       "        vertical-align: middle;\n",
       "    }\n",
       "\n",
       "    .dataframe tbody tr th {\n",
       "        vertical-align: top;\n",
       "    }\n",
       "\n",
       "    .dataframe thead th {\n",
       "        text-align: right;\n",
       "    }\n",
       "</style>\n",
       "<table border=\"1\" class=\"dataframe\">\n",
       "  <thead>\n",
       "    <tr style=\"text-align: right;\">\n",
       "      <th></th>\n",
       "      <th>0</th>\n",
       "      <th>1</th>\n",
       "    </tr>\n",
       "  </thead>\n",
       "  <tbody>\n",
       "    <tr>\n",
       "      <th>0</th>\n",
       "      <td>Product A</td>\n",
       "      <td>22250</td>\n",
       "    </tr>\n",
       "    <tr>\n",
       "      <th>1</th>\n",
       "      <td>Product B</td>\n",
       "      <td>16600</td>\n",
       "    </tr>\n",
       "    <tr>\n",
       "      <th>2</th>\n",
       "      <td>Product C</td>\n",
       "      <td>12500</td>\n",
       "    </tr>\n",
       "  </tbody>\n",
       "</table>\n",
       "</div>"
      ],
      "text/plain": [
       "           0      1\n",
       "0  Product A  22250\n",
       "1  Product B  16600\n",
       "2  Product C  12500"
      ]
     },
     "execution_count": 107,
     "metadata": {},
     "output_type": "execute_result"
    }
   ],
   "source": [
    "data = [['Product A', 22250], ['Product B', 16600], ['Product C', 12500]]\n",
    "df = pd.DataFrame(data)\n",
    "df"
   ]
  },
  {
   "cell_type": "code",
   "execution_count": 108,
   "id": "f02f8c17",
   "metadata": {},
   "outputs": [
    {
     "data": {
      "text/html": [
       "<div>\n",
       "<style scoped>\n",
       "    .dataframe tbody tr th:only-of-type {\n",
       "        vertical-align: middle;\n",
       "    }\n",
       "\n",
       "    .dataframe tbody tr th {\n",
       "        vertical-align: top;\n",
       "    }\n",
       "\n",
       "    .dataframe thead th {\n",
       "        text-align: right;\n",
       "    }\n",
       "</style>\n",
       "<table border=\"1\" class=\"dataframe\">\n",
       "  <thead>\n",
       "    <tr style=\"text-align: right;\">\n",
       "      <th></th>\n",
       "      <th>Product Name</th>\n",
       "      <th>Product Price</th>\n",
       "    </tr>\n",
       "  </thead>\n",
       "  <tbody>\n",
       "    <tr>\n",
       "      <th>0</th>\n",
       "      <td>Product A</td>\n",
       "      <td>22250</td>\n",
       "    </tr>\n",
       "    <tr>\n",
       "      <th>1</th>\n",
       "      <td>Product B</td>\n",
       "      <td>16600</td>\n",
       "    </tr>\n",
       "    <tr>\n",
       "      <th>2</th>\n",
       "      <td>Product C</td>\n",
       "      <td>12500</td>\n",
       "    </tr>\n",
       "  </tbody>\n",
       "</table>\n",
       "</div>"
      ],
      "text/plain": [
       "  Product Name  Product Price\n",
       "0    Product A          22250\n",
       "1    Product B          16600\n",
       "2    Product C          12500"
      ]
     },
     "execution_count": 108,
     "metadata": {},
     "output_type": "execute_result"
    }
   ],
   "source": [
    "df.columns = ['Product Name', 'Product Price']\n",
    "df"
   ]
  },
  {
   "cell_type": "code",
   "execution_count": 109,
   "id": "aff6078e",
   "metadata": {},
   "outputs": [
    {
     "data": {
      "text/html": [
       "<div>\n",
       "<style scoped>\n",
       "    .dataframe tbody tr th:only-of-type {\n",
       "        vertical-align: middle;\n",
       "    }\n",
       "\n",
       "    .dataframe tbody tr th {\n",
       "        vertical-align: top;\n",
       "    }\n",
       "\n",
       "    .dataframe thead th {\n",
       "        text-align: right;\n",
       "    }\n",
       "</style>\n",
       "<table border=\"1\" class=\"dataframe\">\n",
       "  <thead>\n",
       "    <tr style=\"text-align: right;\">\n",
       "      <th></th>\n",
       "      <th>Product Name</th>\n",
       "      <th>Product Price</th>\n",
       "    </tr>\n",
       "  </thead>\n",
       "  <tbody>\n",
       "    <tr>\n",
       "      <th>A</th>\n",
       "      <td>Product A</td>\n",
       "      <td>22250</td>\n",
       "    </tr>\n",
       "    <tr>\n",
       "      <th>B</th>\n",
       "      <td>Product B</td>\n",
       "      <td>16600</td>\n",
       "    </tr>\n",
       "    <tr>\n",
       "      <th>C</th>\n",
       "      <td>Product C</td>\n",
       "      <td>12500</td>\n",
       "    </tr>\n",
       "  </tbody>\n",
       "</table>\n",
       "</div>"
      ],
      "text/plain": [
       "  Product Name  Product Price\n",
       "A    Product A          22250\n",
       "B    Product B          16600\n",
       "C    Product C          12500"
      ]
     },
     "execution_count": 109,
     "metadata": {},
     "output_type": "execute_result"
    }
   ],
   "source": [
    "df.index = ['A','B','C']\n",
    "df"
   ]
  },
  {
   "cell_type": "markdown",
   "id": "62021e32",
   "metadata": {},
   "source": [
    "Construct a DataFrame in a Professional Way"
   ]
  },
  {
   "cell_type": "code",
   "execution_count": 119,
   "id": "807619d5",
   "metadata": {},
   "outputs": [
    {
     "data": {
      "text/html": [
       "<div>\n",
       "<style scoped>\n",
       "    .dataframe tbody tr th:only-of-type {\n",
       "        vertical-align: middle;\n",
       "    }\n",
       "\n",
       "    .dataframe tbody tr th {\n",
       "        vertical-align: top;\n",
       "    }\n",
       "\n",
       "    .dataframe thead th {\n",
       "        text-align: right;\n",
       "    }\n",
       "</style>\n",
       "<table border=\"1\" class=\"dataframe\">\n",
       "  <thead>\n",
       "    <tr style=\"text-align: right;\">\n",
       "      <th></th>\n",
       "      <th>ProductName</th>\n",
       "      <th>ProductPrice</th>\n",
       "    </tr>\n",
       "  </thead>\n",
       "  <tbody>\n",
       "    <tr>\n",
       "      <th>A</th>\n",
       "      <td>Product A</td>\n",
       "      <td>12753</td>\n",
       "    </tr>\n",
       "    <tr>\n",
       "      <th>B</th>\n",
       "      <td>Product B</td>\n",
       "      <td>76434</td>\n",
       "    </tr>\n",
       "    <tr>\n",
       "      <th>C</th>\n",
       "      <td>Product C</td>\n",
       "      <td>38765</td>\n",
       "    </tr>\n",
       "  </tbody>\n",
       "</table>\n",
       "</div>"
      ],
      "text/plain": [
       "  ProductName  ProductPrice\n",
       "A   Product A         12753\n",
       "B   Product B         76434\n",
       "C   Product C         38765"
      ]
     },
     "execution_count": 119,
     "metadata": {},
     "output_type": "execute_result"
    }
   ],
   "source": [
    "df = pd.DataFrame(data = [['Product A',12753],['Product B',76434],['Product C',38765]],\n",
    "                  columns = ['ProductName','ProductPrice'],\n",
    "                  index = ['A','B','C']\n",
    "                   )\n",
    "df"
   ]
  },
  {
   "cell_type": "code",
   "execution_count": 120,
   "id": "27c4f46f",
   "metadata": {},
   "outputs": [
    {
     "data": {
      "text/plain": [
       "6"
      ]
     },
     "execution_count": 120,
     "metadata": {},
     "output_type": "execute_result"
    }
   ],
   "source": [
    "df.size"
   ]
  },
  {
   "cell_type": "code",
   "execution_count": 121,
   "id": "05b5f65d",
   "metadata": {},
   "outputs": [
    {
     "data": {
      "text/plain": [
       "(3, 2)"
      ]
     },
     "execution_count": 121,
     "metadata": {},
     "output_type": "execute_result"
    }
   ],
   "source": [
    "df.shape"
   ]
  },
  {
   "cell_type": "code",
   "execution_count": 122,
   "id": "2e971a87",
   "metadata": {},
   "outputs": [
    {
     "data": {
      "text/plain": [
       "Index(['ProductName', 'ProductPrice'], dtype='object')"
      ]
     },
     "execution_count": 122,
     "metadata": {},
     "output_type": "execute_result"
    }
   ],
   "source": [
    "df.columns"
   ]
  },
  {
   "cell_type": "code",
   "execution_count": 125,
   "id": "2adc75b5",
   "metadata": {},
   "outputs": [
    {
     "data": {
      "text/plain": [
       "A    12753\n",
       "B    76434\n",
       "C    38765\n",
       "Name: ProductPrice, dtype: int64"
      ]
     },
     "execution_count": 125,
     "metadata": {},
     "output_type": "execute_result"
    }
   ],
   "source": [
    "df['ProductPrice']"
   ]
  },
  {
   "cell_type": "code",
   "execution_count": null,
   "id": "efbaa42f",
   "metadata": {},
   "outputs": [],
   "source": []
  }
 ],
 "metadata": {
  "kernelspec": {
   "display_name": "Python 3 (ipykernel)",
   "language": "python",
   "name": "python3"
  },
  "language_info": {
   "codemirror_mode": {
    "name": "ipython",
    "version": 3
   },
   "file_extension": ".py",
   "mimetype": "text/x-python",
   "name": "python",
   "nbconvert_exporter": "python",
   "pygments_lexer": "ipython3",
   "version": "3.10.4"
  }
 },
 "nbformat": 4,
 "nbformat_minor": 5
}
